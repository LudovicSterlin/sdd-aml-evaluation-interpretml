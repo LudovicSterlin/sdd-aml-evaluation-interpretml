{
 "cells": [
  {
   "cell_type": "markdown",
   "metadata": {},
   "source": [
    "# Évaluation - Algorithms in Machine Learning"
   ]
  },
  {
   "cell_type": "markdown",
   "metadata": {},
   "source": [
    "### Antoine CLÉMENT"
   ]
  },
  {
   "cell_type": "markdown",
   "metadata": {},
   "source": [
    "# **Improved Regularization of Convolutional Neural Networks with Cutout**"
   ]
  },
  {
   "cell_type": "markdown",
   "metadata": {},
   "source": [
    "Lien vers l'article de référence : https://arxiv.org/pdf/1708.04552.pdf"
   ]
  },
  {
   "cell_type": "markdown",
   "metadata": {},
   "source": [
    "Cet article présente les travaux réalisés par Terrance DeVries et Graham W. Taylor de l'université de Guelph au Canada. Leurs recherches concernent une nouvelle technique de régularisation utilisable pour l'entrainement de réseaux de neurones convolutionnels destinés à la reconnaissance d'image. "
   ]
  },
  {
   "cell_type": "markdown",
   "metadata": {},
   "source": [
    "### La régularisation dans l'entrainement d'un réseau de neurones"
   ]
  },
  {
   "cell_type": "markdown",
   "metadata": {},
   "source": [
    "Les réseaux de neurones convolutionnels prennent une part de plus en plus grande dans le domaine de la reconnaissance d'images, et les tâches qu'ils peuvent accomplir sont de plus en plus diverses (reconnaissance d'objets, description du contenu d'une image, estimation de la posture d'une personne...). Avec l'augmentation de la puissance de généralisation nécessaire pour de telles tâches, le nombre de neurones et de couches cachées devient de plus en plus important. Ainsi, il peut y avoir jusqu'à plusieurs centaines de millions de paramètres à optimiser lors de l'entrainement d'un modèle. \n",
    "\n",
    "Ce grand nombre de paramètres augmente alors le risque d'overfitting sur les données d'entrainement, conduisant à une faible capacité de généralisation du réseau. Pour éviter ce phénomène, de nombreuses techniques de régularisation ont été développées. Le **Cutout** développé ici est l'une de ces techniques. "
   ]
  },
  {
   "cell_type": "markdown",
   "metadata": {},
   "source": [
    "#### État de l'art et enjeux de la régularisation : \n",
    "Les techniques de régularisation les plus courantes sont les processus de data augmentation, l'ajout de bruit ou le dropout. Une caractéristique importante pour une bonne technique de régularisation est qu'elle doit être réalisable avec un faible coût de calcul. En effet, elle doit pouvoir être applicable à un large jeu de données sans trop dégrader les performances d'apprentissage du réseau. C'est donc un point important à prendre en compte dans l'étude de cette technique, et la raison pour laquelle les techniques de data augmentation sont très utilisées dans ce domaine. (transformations miroirs, cropping de l'image...)\n",
    "\n",
    "Mais le dropout est également très utilisé dans l'apprentissage machine, et il se rapproche de la technique mise en place ici. Pour rappel, il s'agit de modifier la fonction d'activation d'un neurone en l'annulant avec une certaine probabilité *p* lors de chaque boucle forward au cours de l'apprentissage ([documentation pytorch](https://pytorch.org/docs/stable/generated/torch.nn.Dropout.html#torch.nn.Dropout)). Bien que le dropout soit utilisable pour des couches convolutionnelles ou *fully-connected*, il apparait souvent moins efficace pour des couches convolutionnelles pour deux raisons : \n",
    "- Les couches convolutionnelles présentent moins de paramètres que les couches *fully-connected*, et requièrent ainsi moins de régularisation.\n",
    "- Les pixels proches les uns des autres portent souvent la même information et les neurones adjacent des neurones coupées transmettent toujours cette information. \n",
    "\n",
    "Toutes ces techniques visent à diminuer le phénomène de co-adaptation, qui se produit lorsque plusieurs neurones font un travail hautement corrélé (positivement ou négativement). Il en résulte que certains neurones ne servent à rien dans le fonctionnement final du réseau, ce qui représente un fonctionnement sous-optimal.\n",
    "\n",
    "Plus d'informations concernant [la co-adaptatation dans un réseau de neurones](https://datascience.stackexchange.com/questions/36064/what-is-coadaptation-of-neurons-in-neural-networks) ou [la capacité du dropout à réduire cette co-adaptation](https://medium.com/@lipeng2/dropout-is-so-important-e517bbe3ffcc).\n"
   ]
  },
  {
   "cell_type": "markdown",
   "metadata": {},
   "source": [
    "## Le cutout"
   ]
  },
  {
   "cell_type": "markdown",
   "metadata": {},
   "source": [
    "<img src=\"data/Illustration-cutout.png\" alt=\"cutout\" style=\"width: 400px;\"/>\n",
    "Le cutout est une technique de régularisation complémentaire, qui permet de lutter contre les phénomènes de sur-apprentissage. <br>\n",
    "\n",
    "\n",
    "Il consiste à appliquer un masque à chaque image lors de son préprocessing. Ainsi, l'apprentissage ne se fait plus sur la zone masquée d'une image, et le réseau doit alors utiliser le contexte d'un objet, et utiliser l'image de manière globale, plutôt que de se concentrer sur quelques petits éléments clés. <br><br>\n",
    "Il est possible de voir cette transformation comme une forme de dropout, avec cependant deux particularités : \n",
    "- Les fonctions d'activations ne sont coupées que sur la première couche du réseau (la couche d'entrée)\n",
    "- Les fonctions d'activation sont coupées sur toute une zone continue de l'image, et non sur des points disséminés aléatoirement dans l'image d'entrée\n",
    "\n",
    "Intuitivement, il apparait que cette modification d'une zone continue de l'espace permet de lever un des blocages du dropout développé ci-dessus : le fait que les informations portées par un pixels se retrouvent souvent dans les pixels voisins. Le cutout va ainsi permettre d'être plus efficace que ne le serait le drop-out sur une couche convolutionnelle. \n",
    "\n",
    "De plus, il est important de comprendre que ce masque de la couche d'entrée se propage sur toutes les feature-map des couches cachées, ce qui résulte en une absence totale de la zone cachée dans la représentation finale de l'image. \n",
    "\n",
    "Cette technique étant très simple à mettre en oeuvre, elle peut facilement être parallélisée et elle ne nécessite pas de *rescaling* des poids lors de l'entrainement comme c'est le cas avec le dropout. Le surplus de coût de calcul est donc très faible. \n",
    "\n",
    "\n",
    "De plus, elle est indépendante des autres méthodes de régularisation présentées ci-dessus, et peut donc être utilisée en complément. Dans leurs travaux, les deux chercheurs ont par exemple utilisé un réseau avec du dropout sur les couches linéaires, ainsi que des transformations miroirs et du cropping aléatoire des images. "
   ]
  },
  {
   "cell_type": "markdown",
   "metadata": {},
   "source": [
    "## Implémentation"
   ]
  },
  {
   "cell_type": "markdown",
   "metadata": {},
   "source": [
    "Pour mettre en évidence la méthode du cutout, j'ai choisi de travailler sur le jeu de de données Fashion-MNIST que nous avons déjà utilisé en cours de deep-learning. Il s'agit d'un jeu de données composé de 60.000 images de taille 28x28x1 représentant des vêtements ou accessoires.<br>\n",
    "Comme nous l'avons fait en cours, j'ai choisi de ne travailler que sur 15% du jeu de données afin d'accélérer les apprentissages à réaliser, et rendre ce notebook utilisable dans le temps imparti. "
   ]
  },
  {
   "cell_type": "markdown",
   "metadata": {},
   "source": [
    "<div class=\"alert alert-success\">\n",
    "Quelques imports classiques.\n",
    "</div>\n",
    " Ce notebook ne devrait pas nécessiter de librairie particulière en plus de celles nécessaires au cours de SDD."
   ]
  },
  {
   "cell_type": "code",
   "execution_count": 4,
   "metadata": {},
   "outputs": [],
   "source": [
    "import numpy as np\n",
    "from typing import Callable\n",
    "\n",
    "import torch\n",
    "import torch.nn.functional as F\n",
    "from PIL import Image\n",
    "from torch import nn, optim\n",
    "from torch.utils.data import DataLoader, Dataset\n",
    "import torchvision\n",
    "import torchvision.transforms as transforms\n",
    "import cv2\n",
    "import matplotlib.pyplot as plt\n",
    "\n",
    "import ignite.engine\n",
    "import ignite.handlers\n",
    "import ignite.metrics\n",
    "import ignite.utils\n",
    "from ignite.engine import Events\n",
    "\n",
    "import seaborn as sns\n",
    "\n",
    "from cutout import Cutout\n",
    "from utils import iterate_on_model\n",
    "from utils import find_best_cutout_size\n",
    "from utils import model_fn\n",
    "\n",
    "%matplotlib inline"
   ]
  },
  {
   "cell_type": "markdown",
   "metadata": {},
   "source": [
    "<div class=\"alert alert-success\">\n",
    "L'étape de Cutout se fait lors du pipe de transformation.\n",
    "</div>"
   ]
  },
  {
   "cell_type": "markdown",
   "metadata": {},
   "source": [
    "On réalise l'initialisation :"
   ]
  },
  {
   "cell_type": "code",
   "execution_count": 5,
   "metadata": {},
   "outputs": [],
   "source": [
    "transform_training = transforms.Compose([\n",
    "    transforms.ToTensor(), \n",
    "    transforms.Normalize(mean=[0.2867], std=[0.3205]),  ### Cette normalisation est détaillée après l'explication du processus de Cutout\n",
    "])\n",
    "\n",
    "transform_validation = transforms.Compose([\n",
    "    transforms.ToTensor(), \n",
    "    transforms.Normalize(mean=[0.2867], std=[0.3205]),  ### Cette normalisation est détaillée après l'explication du processus de Cutout\n",
    "])"
   ]
  },
  {
   "cell_type": "markdown",
   "metadata": {},
   "source": [
    "La fonction utilisée pour le Cutout est très simple, et fonctionne sur le principe suivant :<br>\n",
    "```\n",
    "h = img.size(1)\n",
    "w = img.size(2)\n",
    "mask = np.ones((h, w), np.float32) ## mask only contains 1 \n",
    "\n",
    "y = np.random.randint(h)\n",
    "x = np.random.randint(w)\n",
    "\n",
    "y1 = y - length // 2\n",
    "y2 = y + length // 2\n",
    "x1 = x - length // 2\n",
    "x2 = x + length // 2\n",
    "\n",
    "mask[y1: y2, x1: x2] = 0          ## some elements of the mask are set to 0\n",
    "\n",
    "img = img * mask\n",
    "```"
   ]
  },
  {
   "cell_type": "markdown",
   "metadata": {},
   "source": [
    "Le code complet se trouve dans le fichier `cutout.py`<br><br>\n",
    "D'après les chercheurs, la forme de la zone occultée n'a que peu d'importance pour l'optimisation du réseau de neurones. Ainsi, nous utilisons une forme carrée, de taille fixée pour toutes les transformations. <br>\n",
    "Le détail du choix de cette taille est présenté en annexe. <br>\n",
    "\n",
    "La zone occultée est sélectionnée en choisissant de manière aléatoire un point central et en formant un carré autour de celui-ci. Le carré peut donc déborder de l'image, et une plus petite zone est alors occultée. D'après les chercheurs, ce fonctionnement est obligatoire et critique pour le bon fonctionnement du réseau de neurones.\n",
    "\n",
    "Une alternative à laisser déborder le masque d'occlusion est également de ne l'appliquer qu'avec une probabilité de 50%, mais je n'ai pas exploré cette piste ici. "
   ]
  },
  {
   "cell_type": "markdown",
   "metadata": {},
   "source": [
    "<div class=\"alert alert-success\">\n",
    "On ajoute le Cutout au pipe de transformation du jeu d'entrainement uniquement.<br>\n",
    "En effet, il n'y a pas lieu d'utiliser cette transformation sur le jeu de validation, ce qui justifie la présence de deux pipe distincts.\n",
    "</div>"
   ]
  },
  {
   "cell_type": "code",
   "execution_count": 6,
   "metadata": {},
   "outputs": [],
   "source": [
    "n_holes = 1\n",
    "hole_length = 4\n",
    "\n",
    "transform_training.transforms.append(    \n",
    "    Cutout(n_holes, hole_length)\n",
    ")"
   ]
  },
  {
   "cell_type": "markdown",
   "metadata": {},
   "source": [
    "<div class=\"alert alert-success\">\n",
    "Les datasets sont importés, en utilisant le pipe adéquat.\n",
    "</div>\n",
    "Pour mener à bien mes recherches dans le temps impartit, j'ai choisi d'entrainer mon réseau sur uniquement 15% du set d'entrainement, et de le tester sur 10% du jeu de test."
   ]
  },
  {
   "cell_type": "code",
   "execution_count": 7,
   "metadata": {},
   "outputs": [
    {
     "name": "stdout",
     "output_type": "stream",
     "text": [
      "10000\n",
      "1000\n"
     ]
    }
   ],
   "source": [
    "seed = 12\n",
    "labels_text = [\"T-shirt/top\", \"Trouser\", \"Pullover\", \"Dress\", \"Coat\", \"Sandal\", \"Shirt\", \"Sneaker\", \"Bag\", \"Ankle boot\"]\n",
    "\n",
    "\n",
    "full_trainset = torchvision.datasets.FashionMNIST(root='data', train=True, download=True, transform=transform_training)\n",
    "trainset, _ = torch.utils.data.random_split(full_trainset, (10000, 50000), generator=torch.Generator().manual_seed(seed))\n",
    "\n",
    "full_validset = torchvision.datasets.FashionMNIST(root='data', train=False, download=True, transform=transform_validation)                                           \n",
    "validset, _ = torch.utils.data.random_split(full_validset, (1000, 9000), generator=torch.Generator().manual_seed(seed))\n",
    "\n",
    "print(len(trainset))\n",
    "print(len(validset))\n",
    "\n",
    "trainloader = torch.utils.data.DataLoader(trainset, batch_size=64, shuffle=True, num_workers=2)\n",
    "validloader = torch.utils.data.DataLoader(validset, batch_size=64, shuffle=False, num_workers=2)"
   ]
  },
  {
   "cell_type": "markdown",
   "metadata": {},
   "source": [
    "<div class=\"alert alert-success\">\n",
    "Normalisation des datasets\n",
    "</div>"
   ]
  },
  {
   "cell_type": "markdown",
   "metadata": {},
   "source": [
    "Le processus de cutout consiste à occulter une partie de l'image pour qu'elle n'intervienne pas dans l'entrainement du réseau. Nous choisissons donc de mettre à 0 les valeurs des pixels masqués. Mais pour que cela soit un masquage neutre pour le réseau il faut que les valeurs soient centrées autour de 0 et réduites **par canal**. Nos images sont en noir et blanc et n'ont donc qu'un seul canal. Il faut alors connaître la moyenne et l'écart type du canal du jeu d'entrainement pour pouvoir normaliser les données :"
   ]
  },
  {
   "cell_type": "code",
   "execution_count": 8,
   "metadata": {},
   "outputs": [
    {
     "name": "stdout",
     "output_type": "stream",
     "text": [
      "mean :  tensor([-0.0010])\n",
      "std :  tensor([0.9918])\n"
     ]
    }
   ],
   "source": [
    "mean = 0\n",
    "std = 0\n",
    "for images, _ in trainloader:\n",
    "    batch_samples = images.size(0)\n",
    "    images = images.view(batch_samples, images.size(1), -1)\n",
    "    mean += images.mean(2).sum(0)\n",
    "    std += images.std(2).sum(0)\n",
    "\n",
    "mean /= ( len(trainloader.dataset))\n",
    "std  /= ( len(trainloader.dataset))\n",
    "\n",
    "print('mean : ', mean)\n",
    "print('std : ', std)"
   ]
  },
  {
   "cell_type": "markdown",
   "metadata": {},
   "source": [
    "Ces valeurs sont ensuite utilisées dans le pipe de normalisation.<br><br>\n",
    "NB : Ici, le pipe de normalisation est déjà configuré pour les datasets de travail. Vous devriez donc obtenir des valeurs proches de 0 et 1. <br><br>\n",
    "NB2: Comme j'utilise un jeu d'entrainement très réduit par rapport au jeu d'entrainement global, la valeur de la moyenne et de l'écart type dépendent de l'échantillonnage aléatoire qui est fait. Afin de parvenir à correctement normaliser les datasets, j'utilise donc une graine `seed = 12` pour obtenir toujours les mêmes datasets et utiliser les mêmes moyennes et écarts types."
   ]
  },
  {
   "cell_type": "markdown",
   "metadata": {},
   "source": [
    "<div class=\"alert alert-success\">\n",
    "Visualisation des données\n",
    "</div>"
   ]
  },
  {
   "cell_type": "markdown",
   "metadata": {},
   "source": [
    "On observe bien sur quelques échantillons la zone masquée de l'image"
   ]
  },
  {
   "cell_type": "code",
   "execution_count": 17,
   "metadata": {},
   "outputs": [
    {
     "data": {
      "text/plain": [
       "(1, 28, 28)"
      ]
     },
     "execution_count": 17,
     "metadata": {},
     "output_type": "execute_result"
    },
    {
     "data": {
      "image/png": "[encoded data removed]",
      "text/plain": [
       "<Figure size 288x288 with 4 Axes>"
      ]
     },
     "metadata": {
      "needs_background": "light"
     },
     "output_type": "display_data"
    }
   ],
   "source": [
    "# get the first batch of images and labels\n",
    "dataiter = iter(trainloader)\n",
    "images, labels = dataiter.next()\n",
    "\n",
    "plt.figure(figsize=(4,4))\n",
    "for i in range(4):\n",
    "    l = labels[i].numpy()\n",
    "    plt.subplot(2, 2, i+1)\n",
    "    plt.title('%d: %s' % (l, labels_text[l]))\n",
    "    plt.imshow(images[i].numpy()[0], cmap='Greys')\n",
    "    plt.axis('off')\n",
    "    \n",
    "images[0].numpy().shape"
   ]
  },
  {
   "cell_type": "markdown",
   "metadata": {},
   "source": [
    "<div class=\"alert alert-success\">\n",
    "Définition du réseau et mise en place de l'entrainement\n",
    "</div>"
   ]
  },
  {
   "cell_type": "markdown",
   "metadata": {},
   "source": [
    "L'entrainement du réseau est ensuite similaire à ce que l'on a déjà eu l'occasion de pratiquer en cours d'AML."
   ]
  },
  {
   "cell_type": "markdown",
   "metadata": {},
   "source": [
    "Pour cet exercice, le réseau utilisé est un petit réseau convolutionnel basique avec deux couches convolutionnelles. Il est similaire à celui vu en cours et j'ai également repris les principaux paramètres d'entrainement qui y étaient utilisés.\n",
    "\n",
    "NB : J'ai fait très peu d'optimisations sur ce réseau convolutionnel. J'ai seulement cherché à avoir un réseau avec des performances correctes et assez rapide à entrainer afin de pouvoir travailler sur l'optimisation des hyperparamètres. Mon but ici n'a pas été d'obtenir les meilleures performances possibles avec un réseau convolutionnel, mais de mettre en évidence l'apport du cutout sur un réseau donné."
   ]
  },
  {
   "cell_type": "code",
   "execution_count": 7,
   "metadata": {},
   "outputs": [
    {
     "data": {
      "text/plain": [
       "Sequential(\n",
       "  (0): Conv2d(1, 32, kernel_size=(3, 3), stride=(1, 1), bias=False)\n",
       "  (1): BatchNorm2d(32, eps=1e-05, momentum=0.1, affine=True, track_running_stats=True)\n",
       "  (2): ReLU()\n",
       "  (3): MaxPool2d(kernel_size=2, stride=2, padding=0, dilation=1, ceil_mode=False)\n",
       "  (4): Conv2d(32, 64, kernel_size=(3, 3), stride=(1, 1), bias=False)\n",
       "  (5): BatchNorm2d(64, eps=1e-05, momentum=0.1, affine=True, track_running_stats=True)\n",
       "  (6): ReLU()\n",
       "  (7): MaxPool2d(kernel_size=2, stride=2, padding=0, dilation=1, ceil_mode=False)\n",
       "  (8): Flatten(start_dim=1, end_dim=-1)\n",
       "  (9): Linear(in_features=1600, out_features=600, bias=True)\n",
       "  (10): Dropout2d(p=0.25, inplace=False)\n",
       "  (11): Linear(in_features=600, out_features=120, bias=True)\n",
       "  (12): Linear(in_features=120, out_features=10, bias=True)\n",
       "  (13): LogSoftmax(dim=-1)\n",
       ")"
      ]
     },
     "execution_count": 7,
     "metadata": {},
     "output_type": "execute_result"
    }
   ],
   "source": [
    "DEVICE = torch.device(\"cuda:0\" if torch.cuda.is_available() else \"cpu\")\n",
    "\n",
    "model = model_fn() # the model is defined in the file utils.py to avoid duplicated code\n",
    "\n",
    "# moving model to gpu if available\n",
    "model.to(DEVICE)"
   ]
  },
  {
   "cell_type": "code",
   "execution_count": 8,
   "metadata": {},
   "outputs": [],
   "source": [
    "# declare optimizers and loss\n",
    "optimizer = optim.SGD(model.parameters(), lr=0.001)\n",
    "criterion = nn.NLLLoss()"
   ]
  },
  {
   "cell_type": "code",
   "execution_count": 9,
   "metadata": {},
   "outputs": [],
   "source": [
    "# defining the number of epochs\n",
    "#epochs = 24 # Here we use a smaller number of epochs to speed up the execution of the notebook (only for this evaluation)\n",
    "epochs = 5 \n",
    "\n",
    "# creating trainer\n",
    "trainer = ignite.engine.create_supervised_trainer(model=model, optimizer=optimizer, loss_fn=criterion, device=DEVICE)\n",
    "\n",
    "# create metrics\n",
    "metrics = {\n",
    "    \"accuracy\": ignite.metrics.Accuracy(),\n",
    "    \"nll\": ignite.metrics.Loss(criterion),\n",
    "    \"cm\": ignite.metrics.ConfusionMatrix(num_classes=10),\n",
    "}\n",
    "\n",
    "ignite.metrics.RunningAverage(output_transform=lambda x: x).attach(trainer, \"loss\")\n",
    "\n",
    "# Evaluators\n",
    "train_evaluator = ignite.engine.create_supervised_evaluator(model, metrics=metrics, device=DEVICE)\n",
    "val_evaluator = ignite.engine.create_supervised_evaluator(model, metrics=metrics, device=DEVICE)\n",
    "\n",
    "# Logging\n",
    "train_evaluator.logger = ignite.utils.setup_logger(\"train\")\n",
    "val_evaluator.logger = ignite.utils.setup_logger(\"val\")\n",
    "\n",
    "# init variables for logging\n",
    "training_history = {\"accuracy\": [], \"loss\": []}\n",
    "validation_history = {\"accuracy\": [], \"loss\": []}\n",
    "last_epoch = []"
   ]
  },
  {
   "cell_type": "code",
   "execution_count": 10,
   "metadata": {},
   "outputs": [
    {
     "data": {
      "text/plain": [
       "<ignite.engine.events.RemovableEventHandle at 0x14f276d50>"
      ]
     },
     "execution_count": 10,
     "metadata": {},
     "output_type": "execute_result"
    }
   ],
   "source": [
    "# Save the model\n",
    "model_name = \"basic_cnn\"\n",
    "dataset_name = \"Fashion_MNIST\"\n",
    "\n",
    "checkpointer = ignite.handlers.ModelCheckpoint(\n",
    "    \"./saved_models\",\n",
    "    filename_prefix=dataset_name,\n",
    "    n_saved=2,\n",
    "    create_dir=True,\n",
    "    save_as_state_dict=True,\n",
    "    require_empty=False,\n",
    ")\n",
    "\n",
    "trainer.add_event_handler(Events.EPOCH_COMPLETED, checkpointer, {model_name: model})"
   ]
  },
  {
   "cell_type": "code",
   "execution_count": 11,
   "metadata": {},
   "outputs": [],
   "source": [
    "@trainer.on(Events.EPOCH_COMPLETED)\n",
    "def log_training_results(trainer):\n",
    "    train_evaluator.run(trainloader)\n",
    "    metrics = train_evaluator.state.metrics\n",
    "    accuracy = metrics[\"accuracy\"] * 100\n",
    "    loss = metrics[\"nll\"]\n",
    "    last_epoch.append(0)\n",
    "    training_history[\"accuracy\"].append(accuracy)\n",
    "    training_history[\"loss\"].append(loss)\n",
    "    print(\n",
    "        \"Training Results - Epoch: {}  Avg accuracy: {:.2f} Avg loss: {:.2f}\".format(\n",
    "            trainer.state.epoch, accuracy, loss\n",
    "        )\n",
    "    )\n",
    "\n",
    "\n",
    "@trainer.on(Events.EPOCH_COMPLETED)\n",
    "def log_validation_results(trainer):\n",
    "    val_evaluator.run(validloader)\n",
    "    metrics = val_evaluator.state.metrics\n",
    "    accuracy = metrics[\"accuracy\"] * 100\n",
    "    loss = metrics[\"nll\"]\n",
    "    validation_history[\"accuracy\"].append(accuracy)\n",
    "    validation_history[\"loss\"].append(loss)\n",
    "    print(\n",
    "        \"Validation Results - Epoch: {}  Avg accuracy: {:.2f} Avg loss: {:.2f}\".format(\n",
    "            trainer.state.epoch, accuracy, loss\n",
    "        )\n",
    "    )\n",
    "\n",
    "@trainer.on(Events.COMPLETED)\n",
    "def log_confusion_matrix(trainer):\n",
    "    val_evaluator.run(validloader)\n",
    "    metrics = val_evaluator.state.metrics\n",
    "    cm = metrics['cm']\n",
    "    cm = cm.numpy()\n",
    "    cm = cm.astype(int)\n",
    "    classes = labels_text\n",
    "    fig, ax = plt.subplots(figsize=(10,10))  \n",
    "    ax= plt.subplot()\n",
    "    sns.heatmap(cm, annot=True, ax = ax,fmt=\"d\")\n",
    "    # labels, title and ticks\n",
    "    ax.set_xlabel('Predicted labels')\n",
    "    ax.set_ylabel('True labels') \n",
    "    ax.set_title('Confusion Matrix') \n",
    "    ax.xaxis.set_ticklabels(classes,rotation=90)\n",
    "    ax.yaxis.set_ticklabels(classes,rotation=0)"
   ]
  },
  {
   "cell_type": "markdown",
   "metadata": {},
   "source": [
    "<div class=\"alert alert-success\">\n",
    "Entrainement du modèle et visualisation des résultats :\n",
    "</div>"
   ]
  },
  {
   "cell_type": "code",
   "execution_count": 12,
   "metadata": {
    "scrolled": false
   },
   "outputs": [
    {
     "name": "stderr",
     "output_type": "stream",
     "text": [
      "2021-01-06 22:36:57,007 train INFO: Engine run starting with max_epochs=1.\n",
      "2021-01-06 22:36:59,491 train INFO: Epoch[1] Complete. Time taken: 00:00:02\n",
      "2021-01-06 22:36:59,493 train INFO: Engine run complete. Time taken: 00:00:02\n",
      "2021-01-06 22:36:59,501 val INFO: Engine run starting with max_epochs=1.\n"
     ]
    },
    {
     "name": "stdout",
     "output_type": "stream",
     "text": [
      "Training Results - Epoch: 1  Avg accuracy: 67.04 Avg loss: 1.78\n"
     ]
    },
    {
     "name": "stderr",
     "output_type": "stream",
     "text": [
      "2021-01-06 22:36:59,804 val INFO: Epoch[1] Complete. Time taken: 00:00:00\n",
      "2021-01-06 22:36:59,805 val INFO: Engine run complete. Time taken: 00:00:00\n"
     ]
    },
    {
     "name": "stdout",
     "output_type": "stream",
     "text": [
      "Validation Results - Epoch: 1  Avg accuracy: 65.30 Avg loss: 1.79\n"
     ]
    },
    {
     "name": "stderr",
     "output_type": "stream",
     "text": [
      "2021-01-06 22:37:07,017 train INFO: Engine run starting with max_epochs=1.\n",
      "2021-01-06 22:37:09,273 train INFO: Epoch[1] Complete. Time taken: 00:00:02\n",
      "2021-01-06 22:37:09,274 train INFO: Engine run complete. Time taken: 00:00:02\n",
      "2021-01-06 22:37:09,283 val INFO: Engine run starting with max_epochs=1.\n"
     ]
    },
    {
     "name": "stdout",
     "output_type": "stream",
     "text": [
      "Training Results - Epoch: 2  Avg accuracy: 70.12 Avg loss: 1.36\n"
     ]
    },
    {
     "name": "stderr",
     "output_type": "stream",
     "text": [
      "2021-01-06 22:37:09,556 val INFO: Epoch[1] Complete. Time taken: 00:00:00\n",
      "2021-01-06 22:37:09,557 val INFO: Engine run complete. Time taken: 00:00:00\n"
     ]
    },
    {
     "name": "stdout",
     "output_type": "stream",
     "text": [
      "Validation Results - Epoch: 2  Avg accuracy: 68.40 Avg loss: 1.38\n"
     ]
    },
    {
     "name": "stderr",
     "output_type": "stream",
     "text": [
      "2021-01-06 22:37:16,362 train INFO: Engine run starting with max_epochs=1.\n",
      "2021-01-06 22:37:18,835 train INFO: Epoch[1] Complete. Time taken: 00:00:02\n",
      "2021-01-06 22:37:18,837 train INFO: Engine run complete. Time taken: 00:00:02\n",
      "2021-01-06 22:37:18,846 val INFO: Engine run starting with max_epochs=1.\n"
     ]
    },
    {
     "name": "stdout",
     "output_type": "stream",
     "text": [
      "Training Results - Epoch: 3  Avg accuracy: 72.84 Avg loss: 1.11\n"
     ]
    },
    {
     "name": "stderr",
     "output_type": "stream",
     "text": [
      "2021-01-06 22:37:19,159 val INFO: Epoch[1] Complete. Time taken: 00:00:00\n",
      "2021-01-06 22:37:19,161 val INFO: Engine run complete. Time taken: 00:00:00\n"
     ]
    },
    {
     "name": "stdout",
     "output_type": "stream",
     "text": [
      "Validation Results - Epoch: 3  Avg accuracy: 70.70 Avg loss: 1.13\n"
     ]
    },
    {
     "name": "stderr",
     "output_type": "stream",
     "text": [
      "2021-01-06 22:37:27,285 train INFO: Engine run starting with max_epochs=1.\n",
      "2021-01-06 22:37:30,374 train INFO: Epoch[1] Complete. Time taken: 00:00:03\n",
      "2021-01-06 22:37:30,376 train INFO: Engine run complete. Time taken: 00:00:03\n",
      "2021-01-06 22:37:30,387 val INFO: Engine run starting with max_epochs=1.\n"
     ]
    },
    {
     "name": "stdout",
     "output_type": "stream",
     "text": [
      "Training Results - Epoch: 4  Avg accuracy: 73.90 Avg loss: 0.95\n"
     ]
    },
    {
     "name": "stderr",
     "output_type": "stream",
     "text": [
      "2021-01-06 22:37:30,731 val INFO: Epoch[1] Complete. Time taken: 00:00:00\n",
      "2021-01-06 22:37:30,733 val INFO: Engine run complete. Time taken: 00:00:00\n"
     ]
    },
    {
     "name": "stdout",
     "output_type": "stream",
     "text": [
      "Validation Results - Epoch: 4  Avg accuracy: 72.20 Avg loss: 0.97\n"
     ]
    },
    {
     "name": "stderr",
     "output_type": "stream",
     "text": [
      "2021-01-06 22:37:38,267 train INFO: Engine run starting with max_epochs=1.\n",
      "2021-01-06 22:37:40,759 train INFO: Epoch[1] Complete. Time taken: 00:00:02\n",
      "2021-01-06 22:37:40,760 train INFO: Engine run complete. Time taken: 00:00:02\n",
      "2021-01-06 22:37:40,769 val INFO: Engine run starting with max_epochs=1.\n"
     ]
    },
    {
     "name": "stdout",
     "output_type": "stream",
     "text": [
      "Training Results - Epoch: 5  Avg accuracy: 74.73 Avg loss: 0.85\n"
     ]
    },
    {
     "name": "stderr",
     "output_type": "stream",
     "text": [
      "2021-01-06 22:37:41,067 val INFO: Epoch[1] Complete. Time taken: 00:00:00\n",
      "2021-01-06 22:37:41,069 val INFO: Engine run complete. Time taken: 00:00:00\n",
      "2021-01-06 22:37:41,077 val INFO: Engine run starting with max_epochs=1.\n"
     ]
    },
    {
     "name": "stdout",
     "output_type": "stream",
     "text": [
      "Validation Results - Epoch: 5  Avg accuracy: 73.40 Avg loss: 0.88\n"
     ]
    },
    {
     "name": "stderr",
     "output_type": "stream",
     "text": [
      "2021-01-06 22:37:41,357 val INFO: Epoch[1] Complete. Time taken: 00:00:00\n",
      "2021-01-06 22:37:41,359 val INFO: Engine run complete. Time taken: 00:00:00\n"
     ]
    },
    {
     "data": {
      "text/plain": [
       "State:\n",
       "\titeration: 785\n",
       "\tepoch: 5\n",
       "\tepoch_length: 157\n",
       "\tmax_epochs: 5\n",
       "\toutput: 0.9912205338478088\n",
       "\tbatch: <class 'list'>\n",
       "\tmetrics: <class 'dict'>\n",
       "\tdataloader: <class 'torch.utils.data.dataloader.DataLoader'>\n",
       "\tseed: <class 'NoneType'>\n",
       "\ttimes: <class 'dict'>"
      ]
     },
     "execution_count": 12,
     "metadata": {},
     "output_type": "execute_result"
    },
    {
     "data": {
      "image/png": "[encoded data removed]",
      "text/plain": [
       "<Figure size 720x720 with 2 Axes>"
      ]
     },
     "metadata": {
      "needs_background": "light"
     },
     "output_type": "display_data"
    }
   ],
   "source": [
    "trainer.run(trainloader, max_epochs=epochs)"
   ]
  },
  {
   "cell_type": "code",
   "execution_count": 13,
   "metadata": {},
   "outputs": [
    {
     "data": {
      "image/png": "[encoded data removed]",
      "text/plain": [
       "<Figure size 432x288 with 1 Axes>"
      ]
     },
     "metadata": {
      "needs_background": "light"
     },
     "output_type": "display_data"
    }
   ],
   "source": [
    "plt.plot(training_history[\"loss\"], label=\"Training Loss\")\n",
    "plt.plot(validation_history[\"loss\"], label=\"Validation Loss\")\n",
    "plt.xlabel(\"No. of Epochs\")\n",
    "plt.ylabel(\"Loss\")\n",
    "plt.legend(frameon=False)\n",
    "plt.show()"
   ]
  },
  {
   "cell_type": "code",
   "execution_count": 14,
   "metadata": {},
   "outputs": [
    {
     "data": {
      "image/png": "[encoded data removed]",
      "text/plain": [
       "<Figure size 432x288 with 1 Axes>"
      ]
     },
     "metadata": {
      "needs_background": "light"
     },
     "output_type": "display_data"
    }
   ],
   "source": [
    "plt.plot(training_history[\"accuracy\"], label=\"Training Accuracy\")\n",
    "plt.plot(validation_history[\"accuracy\"], label=\"Validation Accuracy\")\n",
    "plt.xlabel(\"No. of Epochs\")\n",
    "plt.ylabel(\"Accuracy\")\n",
    "plt.legend(frameon=False)\n",
    "plt.show()"
   ]
  },
  {
   "cell_type": "markdown",
   "metadata": {},
   "source": [
    "On peut déjà observer que les courbes ressemblent bien à des courbes d'apprentissage classiques."
   ]
  },
  {
   "cell_type": "markdown",
   "metadata": {},
   "source": [
    "<div class=\"alert alert-success\">\n",
    "Bien que l'objectif ne soit pas ici d'avoir la meilleure efficacité possible, cette partie permet de visualiser les éléments mal classifiés \n",
    "</div>"
   ]
  },
  {
   "cell_type": "code",
   "execution_count": null,
   "metadata": {},
   "outputs": [],
   "source": [
    "# %load data/code1.py\n",
    "#creating iterator for iterating the dataset\n",
    "dataiter = iter(validloader)\n",
    "images, labels = dataiter.next()\n",
    "images_arr = []\n",
    "labels_arr = []\n",
    "pred_arr = []\n",
    "# moving model to cpu for inference \n",
    "model.to(\"cpu\")\n",
    "# iterating on the dataset to predict the output\n",
    "for i in range(0,10):\n",
    "    images_arr.append(images[i].unsqueeze(0))\n",
    "    labels_arr.append(labels[i].item())\n",
    "    ps = torch.exp(model(images_arr[i]))\n",
    "    ps = ps.data.numpy().squeeze()\n",
    "    pred_arr.append(np.argmax(ps))\n",
    "# plotting the results\n",
    "fig = plt.figure(figsize=(25,4))\n",
    "for i in range(10):\n",
    "    ax = fig.add_subplot(2, 20/2, i+1, xticks=[], yticks=[])\n",
    "    ax.imshow(images_arr[i].resize_(1, 28, 28).numpy().squeeze(), cmap = 'Greys')\n",
    "    ax.set_title(\"{} ({})\".format(labels_text[pred_arr[i]], labels_text[labels_arr[i]]),\n",
    "                 color=(\"green\" if pred_arr[i]==labels_arr[i] else \"red\"))"
   ]
  },
  {
   "cell_type": "markdown",
   "metadata": {},
   "source": [
    "<div class=\"alert alert-success\">\n",
    "Itération sur plusieurs entrainements \n",
    "</div>"
   ]
  },
  {
   "cell_type": "markdown",
   "metadata": {},
   "source": [
    "Afin de gagner en robustesse, nous itérons la totalité de ce processus 5 fois pour connaître les performances de ce réseau. La fonction `iterate_on_model` est un simple wrapper permettant de réinitialiser les poids du réseau et de réaliser un entrainement sur 24 périodes. "
   ]
  },
  {
   "cell_type": "markdown",
   "metadata": {},
   "source": [
    "<div class=\"alert alert-danger\">\n",
    "/!\\ L'exécution de cette cellule est très longue, ses résultats vous sont présentés ci-dessous\n",
    "</div>"
   ]
  },
  {
   "cell_type": "code",
   "execution_count": 16,
   "metadata": {},
   "outputs": [
    {
     "name": "stdout",
     "output_type": "stream",
     "text": [
      "\n",
      " iteration : 1\n",
      "************************\n",
      " iteration : 2\n",
      "************************\n",
      " iteration : 3\n",
      "************************\n",
      " iteration : 4\n",
      "************************\n",
      " iteration : 5\n",
      "************************"
     ]
    }
   ],
   "source": [
    "nb_epochs = 24\n",
    "train_stats = []\n",
    "for i in range(5):\n",
    "    print('\\n', f\"iteration : {i + 1}\")\n",
    "    train_stats.append(iterate_on_model(nb_epochs, DEVICE, trainloader, validloader))"
   ]
  },
  {
   "cell_type": "code",
   "execution_count": 17,
   "metadata": {},
   "outputs": [
    {
     "name": "stdout",
     "output_type": "stream",
     "text": [
      "avg_training_accuracy     : 82.04 +/- 0.09\n",
      "avg_validation_accuracy   : 78.94 +/- 0.37\n",
      "avg_training_loss         :  0.51 +/- 0.0\n",
      "avg_validation_loss       :  0.56 +/- 0.0\n"
     ]
    }
   ],
   "source": [
    "##############################################\n",
    "# To remove if the previous cell is executed #\n",
    "train_stats = [[0, 0, 0, 0]]                 #\n",
    "##############################################\n",
    "\n",
    "train_stats = np.array(train_stats)\n",
    "train_stats = np.around(train_stats, 2)\n",
    "\n",
    "avg_training_accuracy = np.mean(train_stats[:,0])\n",
    "avg_validation_accuracy = np.mean(train_stats[:,1])\n",
    "avg_training_loss = np.mean(train_stats[:,2])\n",
    "avg_validation_loss = np.mean(train_stats[:,3])\n",
    "\n",
    "std_training_accuracy = np.std(train_stats[:,0])\n",
    "std_validation_accuracy = np.std(train_stats[:,1])\n",
    "std_training_loss = np.std(train_stats[:,2])\n",
    "std_validation_loss = np.std(train_stats[:,3])\n",
    "\n",
    "\n",
    "##############################################\n",
    "# To remove if the previous cell is executed #\n",
    "avg_training_accuracy = 82.04                #\n",
    "avg_validation_accuracy = 78.94              #\n",
    "avg_training_loss = 0.51                     #\n",
    "avg_validation_loss = 0.56                   #\n",
    "                                             #\n",
    "std_training_accuracy = 0.09                 #\n",
    "std_validation_accuracy = 0.37               #\n",
    "std_training_loss = 0.00                     #\n",
    "std_validation_loss = 0.00                   #\n",
    "##############################################\n",
    "\n",
    "\n",
    "print('avg_training_accuracy     :', np.around(avg_training_accuracy, 2), '+/-', np.around(std_training_accuracy, 2))\n",
    "print('avg_validation_accuracy   :', np.around(avg_validation_accuracy, 2), '+/-', np.around(std_validation_accuracy, 2))\n",
    "print('avg_training_loss         : ', np.around(avg_training_loss, 2), '+/-', np.around(std_training_loss, 2))\n",
    "print('avg_validation_loss       : ', np.around(avg_validation_loss, 2), '+/-', np.around(std_validation_loss, 2))"
   ]
  },
  {
   "cell_type": "markdown",
   "metadata": {},
   "source": [
    "## Résultats obtenus"
   ]
  },
  {
   "cell_type": "markdown",
   "metadata": {},
   "source": [
    "Afin de connaître les performances du cutout, nous comparons ces performances à celles du même réseau sans le cutout: (résultats obtenus pour 5 entrainement du réseau)"
   ]
  },
  {
   "cell_type": "markdown",
   "metadata": {},
   "source": [
    "||Avec Cutout|Sans Cutout|\n",
    "|-|------|-----|\n",
    "|training_accuracy|82.04 +/- 0.09|82.91 +/- 0.49|\n",
    "|validation_accuracy|78.94 +/- 0.37|80.08 +/- 1.11|\n",
    "|training_loss| 0.51 +/- 0.0|0.48 +/- 0.01|\n",
    "|validation_loss| 0.56 +/- 0.0|0.55 +/- 0.01|"
   ]
  },
  {
   "cell_type": "markdown",
   "metadata": {},
   "source": [
    "**Comme on peut le voir, mes travaux n'ont pas permis de confirmer l'apport du cutout, et les résultats décris dans ce papier.**"
   ]
  },
  {
   "cell_type": "markdown",
   "metadata": {},
   "source": [
    "## Résultats obtenus par les chercheurs **Terrance DeVries** et **Graham W. Taylor**"
   ]
  },
  {
   "cell_type": "markdown",
   "metadata": {},
   "source": [
    "Leurs recherches se sont concentrées sur trois jeux de données : \n",
    "- [CIFAR-10](https://www.cs.toronto.edu/~kriz/cifar.html) qui comprend 60.000 images en couleurs de dimension 32x32, et 10 classes à déterminer\n",
    "- [CIFAR-100](https://www.cs.toronto.edu/~kriz/cifar.html) qui comprend 60.000 images en couleurs de dimension 32x32, et 100 classes à déterminer (certaines très proches comme érable, chêne, palmier, pin et saule)\n",
    "- Street View House Numbers ([SVHN](http://ufldl.stanford.edu/housenumbers/)) qui comprend 630 420 images en couleur de taille 32x32 contenant un numéro de 1 à 10 à identifier. \n",
    "\n",
    "Les réseaux utilisés pour l'entrainement sont des réseaux convolutionnels ([ResNet18](https://www.researchgate.net/figure/ResNet-18-Architecture_tbl1_322476121), [WRN-28-10](http://www.bmva.org/bmvc/2016/papers/paper087/paper087.pdf), et [shake-shake Regularization](https://arxiv.org/abs/1705.07485) qui détenait alors les meilleures performances sur les datasets CIFAR)"
   ]
  },
  {
   "cell_type": "markdown",
   "metadata": {},
   "source": [
    "L'application du cutout à ces algorithmes a permis d'obtenir les résultats suivants. (l'ensemble des résultats est disponible dans l'article, mais seuls les plus importants sont présentés ici). <br>\n",
    "C'est ici le taux d'erreur sur l'ensemble de test qui est représenté, avec des valeurs calculées sur 5 entrainement de chaque réseau (3 pour la régularisation shake-shake).\n",
    "\n",
    "||C10|C100|SVHN|\n",
    "|-|-|-|-|\n",
    "|WideResNet|3.87 ± 0.08|18.8 ± 0.08 |1.60 ± 0.05 |\n",
    "|WideResNet + Cutout |3.08 ± 0.16|18.41 ± 0.27|1.30 ± 0.03|\n",
    "|Shake-shake regularization|2.86|15.85 |--|\n",
    "|Shake-shake regularization + Cutout|**2.56 ± 0.07**|**15.20 ± 0.21**|--|"
   ]
  },
  {
   "cell_type": "markdown",
   "metadata": {},
   "source": [
    "Comme on peut le voir, le cutout augmente bien la performance de ces réseaux convolutionnels, en permettant de diminuer le taux d'erreurs sur l'ensemble de test.<br>\n",
    "Il est également à noter que ces travaux ont permis **d'établir une nouvelle valeur de l'état de l'art pour les datasets CIFAR** en dépassant la valeur actuelle réalisée par la *shake-shake regularization*."
   ]
  },
  {
   "cell_type": "markdown",
   "metadata": {},
   "source": [
    "En observant la répartition et l'intensité des fonctions d'activation des neurones, les scientifiques ont également pu établir que le cutout encourage le réseau à considérer un plus grand nombre de features pour sa classification. "
   ]
  },
  {
   "cell_type": "markdown",
   "metadata": {},
   "source": [
    "### Annexes"
   ]
  },
  {
   "cell_type": "markdown",
   "metadata": {},
   "source": [
    "#### Détermination de la taille optimale pour la zone d'obstruction "
   ]
  },
  {
   "cell_type": "markdown",
   "metadata": {},
   "source": [
    "Afin de connaître cette taille optimale, j'ai procédé à une optimisation de cet hyperparamètre avec plusieurs entrainements pour chacune d'entre elle. La fonction suivante est ainsi un wrapper réalisant ce travail, et produisant la moyenne et l'écart type des performances pour chaque taille de zone croppée."
   ]
  },
  {
   "cell_type": "code",
   "execution_count": 21,
   "metadata": {},
   "outputs": [
    {
     "name": "stdout",
     "output_type": "stream",
     "text": [
      "\n",
      " size :  1 \n",
      "\n",
      "try : 1\n",
      "**\n",
      "\n",
      " size :  4 \n",
      "\n",
      "try : 1\n",
      "**\n",
      "\n",
      " size :  7 \n",
      "\n",
      "try : 1\n",
      "**\n",
      "\n",
      " size :  10 \n",
      "\n",
      "try : 1\n",
      "**\n",
      "\n",
      " size :  13 \n",
      "\n",
      "try : 1\n",
      "**\n",
      "\n",
      " size :  16 \n",
      "\n",
      "try : 1\n",
      "**\n",
      "\n",
      " size :  19 \n",
      "\n",
      "try : 1\n",
      "**\n"
     ]
    }
   ],
   "source": [
    "res = find_best_cutout_size(range(1, 22, 3), 1, 1)"
   ]
  },
  {
   "cell_type": "code",
   "execution_count": 24,
   "metadata": {},
   "outputs": [
    {
     "data": {
      "text/plain": [
       "{1: [65.91, 62.8, 1.7319117095947265, 1.75547372341156, 0.0, 0.0, 0.0, 0.0],\n",
       " 4: [62.91, 61.4, 1.861712300491333, 1.8746537103652954, 0.0, 0.0, 0.0, 0.0],\n",
       " 7: [60.33,\n",
       "  60.099999999999994,\n",
       "  1.7980260103225707,\n",
       "  1.812066023826599,\n",
       "  0.0,\n",
       "  0.0,\n",
       "  0.0,\n",
       "  0.0],\n",
       " 10: [60.88, 60.4, 1.7533258306503297, 1.7778621225357056, 0.0, 0.0, 0.0, 0.0],\n",
       " 13: [55.47,\n",
       "  53.800000000000004,\n",
       "  1.8295123878479005,\n",
       "  1.8369245138168335,\n",
       "  0.0,\n",
       "  0.0,\n",
       "  0.0,\n",
       "  0.0],\n",
       " 16: [51.129999999999995,\n",
       "  48.3,\n",
       "  1.9584477298736571,\n",
       "  1.9805200338363647,\n",
       "  0.0,\n",
       "  0.0,\n",
       "  0.0,\n",
       "  0.0],\n",
       " 19: [50.019999999999996,\n",
       "  49.0,\n",
       "  1.9758577157974244,\n",
       "  1.9820405158996581,\n",
       "  0.0,\n",
       "  0.0,\n",
       "  0.0,\n",
       "  0.0]}"
      ]
     },
     "metadata": {},
     "output_type": "display_data"
    }
   ],
   "source": [
    "display(res)"
   ]
  },
  {
   "cell_type": "markdown",
   "metadata": {},
   "source": [
    "NB : Ce wrapper n'est pas parfait, car il permet un phénomène de data leakage. En effet, ce sont les performances sur le jeu de validation qui sont utilisées pour choisir la taille idéale, alors que c'est également celui-ci qui sert à mesurer les performances du réseau final avec ou sans cutout. Il aurait été mieux de faire intervenir un troisième jeu de données (de test) que le réseau n'aurait jamais vu avant le test final, mais par manque de temps j'ai gardé cette solution, plus proche de nos travaux en SDD. "
   ]
  },
  {
   "cell_type": "markdown",
   "metadata": {},
   "source": [
    "C'est le chiffre de 4 que j'ai retenu pour les données que j'ai choisi de traiter car c'est celui qui dans certains cas semblait donner les meilleures performances, mais cela n'a pas permis de significativement améliorer le comportement du réseau."
   ]
  },
  {
   "cell_type": "markdown",
   "metadata": {},
   "source": [
    "#### Cout du processus de cutout :"
   ]
  },
  {
   "cell_type": "markdown",
   "metadata": {},
   "source": [
    "Afin de mesurer le surcout que cette méthode entraine, nous pouvons comparer le temps mis pour charger l'ensemble du dataset :"
   ]
  },
  {
   "cell_type": "code",
   "execution_count": 20,
   "metadata": {},
   "outputs": [],
   "source": [
    "def load_dataset(cutout, data_augmentation, random_cropping):\n",
    "    transform = transforms.Compose([\n",
    "        transforms.ToTensor(), \n",
    "    ])\n",
    "\n",
    "    if cutout : \n",
    "        transform.transforms.append(    \n",
    "            Cutout(1, 4)\n",
    "        )\n",
    "    \n",
    "    if data_augmentation : \n",
    "        transform.transforms.append(transforms.RandomHorizontalFlip())\n",
    "        \n",
    "    if random_cropping : \n",
    "        transform.transforms.append(transforms.RandomCrop(25, padding=4))\n",
    "    \n",
    "\n",
    "    trainset = torchvision.datasets.FashionMNIST(root='data', train=True, download=True, transform=transform)\n",
    "    trainloader = torch.utils.data.DataLoader(trainset, batch_size=60, shuffle=True, num_workers=2)\n",
    "\n",
    "    dataiter = iter(trainloader)\n",
    "    for i in range(1000): #data set has size 60.000 and batches has size 60\n",
    "        images, labels = dataiter.next()"
   ]
  },
  {
   "cell_type": "code",
   "execution_count": 21,
   "metadata": {},
   "outputs": [
    {
     "name": "stdout",
     "output_type": "stream",
     "text": [
      "CPU times: user 288 ms, sys: 160 ms, total: 448 ms\n",
      "Wall time: 3.18 s\n"
     ]
    }
   ],
   "source": [
    "%%time \n",
    "## No data-transformation\n",
    "load_dataset(False, False, False)"
   ]
  },
  {
   "cell_type": "code",
   "execution_count": 22,
   "metadata": {},
   "outputs": [
    {
     "name": "stdout",
     "output_type": "stream",
     "text": [
      "CPU times: user 280 ms, sys: 151 ms, total: 432 ms\n",
      "Wall time: 4.88 s\n"
     ]
    }
   ],
   "source": [
    "%%time\n",
    "## random_flip\n",
    "load_dataset(False, True, False)"
   ]
  },
  {
   "cell_type": "code",
   "execution_count": 23,
   "metadata": {},
   "outputs": [
    {
     "name": "stdout",
     "output_type": "stream",
     "text": [
      "CPU times: user 335 ms, sys: 176 ms, total: 510 ms\n",
      "Wall time: 6.27 s\n"
     ]
    }
   ],
   "source": [
    "%%time \n",
    "## Random Cropping\n",
    "load_dataset(False, False, True)"
   ]
  },
  {
   "cell_type": "code",
   "execution_count": 24,
   "metadata": {},
   "outputs": [
    {
     "name": "stdout",
     "output_type": "stream",
     "text": [
      "CPU times: user 373 ms, sys: 190 ms, total: 563 ms\n",
      "Wall time: 8.6 s\n"
     ]
    }
   ],
   "source": [
    "%%time \n",
    "## Cutout\n",
    "load_dataset(True, False, False)"
   ]
  },
  {
   "cell_type": "code",
   "execution_count": 25,
   "metadata": {},
   "outputs": [
    {
     "name": "stdout",
     "output_type": "stream",
     "text": [
      "CPU times: user 317 ms, sys: 166 ms, total: 483 ms\n",
      "Wall time: 12.5 s\n"
     ]
    }
   ],
   "source": [
    "%%time \n",
    "## All transformations\n",
    "load_dataset(True, True, True)"
   ]
  },
  {
   "cell_type": "markdown",
   "metadata": {},
   "source": [
    "On observe que même si individuellement le processus de cutout est plus long que d'autres prétraitements, la parallèlisation du processus permet de diminuer cet impact négatif, qui est de plus minime par rapport au temps total nécessaire pour entrainer le réseau. "
   ]
  },
  {
   "cell_type": "markdown",
   "metadata": {},
   "source": [
    "### Raisons de l'échec de mes essais\n",
    "Je vois deux raisons possibles à l'échec de mes expérimentations pour reproduire le résultat des chercheurs :\n",
    "- Mes images sont en noir et blanc, alors que celles des chercheurs étaient en couleur. <br> \n",
    "Cela implique que le cutout est \"trois fois\" moins efficaces car seulement un canal est occulté au lieu des trois dans l'autre cas\n",
    "- Mes images ont une petite taille, avec beaucoup de blanc autour de l'image. <br>\n",
    "Ainsi, si le cutout tombe dans une zone blanche, il produit seulement du bruit sur l'image, et il ne reste plus beaucoup d'information dans l'image une fois le masque réalisé. De plus, le cutout pousse le réseau à utiliser le contexte de l'image pour son entrainement, or les images de ce dataset ne présentent pas vraiment de contexte.\n",
    "\n",
    "J'ai choisi de ne pas utiliser les mêmes supports que les chercheurs car les temps d'entrainement étaient rédhibitoires, et que travailler sur le jeu de données Fashion-MNIST permettait un plus grand parallèle avec nos activités en SDD, mais cela ne s'est pas révélé être un choix pertinent. "
   ]
  },
  {
   "cell_type": "markdown",
   "metadata": {},
   "source": [
    "## Pour aller plus loin"
   ]
  },
  {
   "cell_type": "markdown",
   "metadata": {},
   "source": [
    "###  Réutilisation du cutout"
   ]
  },
  {
   "cell_type": "markdown",
   "metadata": {},
   "source": [
    "Bien que ma démonstration ne soit pas très probante, les résultats des chercheurs sont tout de même prometteurs. Si vous souhaitez vous aussi mettre en place ce prétraitement des données, il vous suffit simplement d'inclure la couche de cutout au sein du pipe de transformation en utilisant le fichier `cutout.py` que j'utilise moi-même. L'étape la plus délicate sera de choisir la meilleure taille pour la zone à masquer, ce que vous pouvez faire comme je l'ai fait, ou à l'aide d'une cross validation. "
   ]
  },
  {
   "cell_type": "markdown",
   "metadata": {},
   "source": [
    "### Bibliographie"
   ]
  },
  {
   "cell_type": "markdown",
   "metadata": {},
   "source": [
    "Les ressources que j'ai utilisées tout au long de ce notebook sont les suivantes : "
   ]
  },
  {
   "cell_type": "markdown",
   "metadata": {},
   "source": [
    "Article de référence : https://arxiv.org/pdf/1708.04552.pdf <br><br>\n",
    "Documentation concernant la co-adaptation et le dropout :<br>\n",
    "https://pytorch.org/docs/stable/generated/torch.nn.Dropout.html#torch.nn.Dropout<br>\n",
    "https://datascience.stackexchange.com/questions/36064/what-is-coadaptation-of-neurons-in-neural-networks<br>\n",
    "https://medium.com/@lipeng2/dropout-is-so-important-e517bbe3ffcc<br><br>\n",
    "Réseaux et datasets de référence : <br>\n",
    "https://www.cs.toronto.edu/~kriz/cifar.html<br>\n",
    "https://www.cs.toronto.edu/~kriz/cifar.html<br>\n",
    "http://ufldl.stanford.edu/housenumbers/<br><br>\n",
    "https://www.researchgate.net/figure/ResNet-18-Architecture_tbl1_322476121<br>\n",
    "http://www.bmva.org/bmvc/2016/papers/paper087/paper087.pdf<br>\n",
    "https://arxiv.org/abs/1705.07485<br>\n",
    "https://github.com/uoguelph-mlrg/Cutout<br>"
   ]
  }
 ],
 "metadata": {
  "kernelspec": {
   "display_name": "Python 3",
   "language": "python",
   "name": "python3"
  },
  "language_info": {
   "codemirror_mode": {
    "name": "ipython",
    "version": 3
   },
   "file_extension": ".py",
   "mimetype": "text/x-python",
   "name": "python",
   "nbconvert_exporter": "python",
   "pygments_lexer": "ipython3",
   "version": "3.8.3"
  }
 },
 "nbformat": 4,
 "nbformat_minor": 4
}
