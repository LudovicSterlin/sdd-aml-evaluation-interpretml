{
 "cells": [
  {
   "cell_type": "markdown",
   "metadata": {},
   "source": [
    "# On the role of neurogenesis in overcoming catastrophic forgetting\n",
    "\n",
    "[=> Link to the paper <=](https://arxiv.org/pdf/1811.02113.pdf)"
   ]
  },
  {
   "cell_type": "markdown",
   "metadata": {},
   "source": [
    "## Introduction \n",
    "\n",
    "State of the art models of machine learning are designed to be used in a 2 step process: learning and inference.\n",
    "\n",
    "The problem of this paradigma is that these networks are not able to learn in a continuous manner: once the task is learnt, if we want to add some more data, we should retrain the model on the whole dataset. If we don't, we may face some *catastrophic forgetting*, i.e. the model may forget the previous mode of the function he is trying to infer.\n",
    "\n",
    "To prevent this effect, we may use some dynamic networks, which *grow when required*, as presented by [Marsland et al. (2002)](https://seat.massey.ac.nz/personal/s.r.marsland/PUBS/NN02.pdf)\n",
    "\n",
    "In this notebook, we will try to demonstrate the ability of those network to learn in a continuous manner. More precisely, we will try to show that growing more neurons when new modes show up is an efficient strategy for that. We will thus compare a static network and a dynamic network to see the influence of growth when required, on the ability of the network to remember precedent features."
   ]
  },
  {
   "cell_type": "code",
   "execution_count": 1,
   "metadata": {},
   "outputs": [],
   "source": [
    "from sklearn.datasets import load_digits\n",
    "import matplotlib.pyplot as plt\n",
    "import numpy as np\n",
    "from sklearn.metrics import accuracy_score"
   ]
  },
  {
   "cell_type": "markdown",
   "metadata": {},
   "source": [
    "### MNIST dataset\n",
    "\n",
    "We work with the MNIST dataset for this notebook. In [the article](https://arxiv.org/pdf/1811.02113.pdf), they used CORe50, but the principle stays the same. It just has to be a classification task."
   ]
  },
  {
   "cell_type": "code",
   "execution_count": 2,
   "metadata": {},
   "outputs": [],
   "source": [
    "dataset = load_digits()"
   ]
  },
  {
   "cell_type": "code",
   "execution_count": 3,
   "metadata": {},
   "outputs": [],
   "source": [
    "X, y = dataset['data']/16, dataset['target']"
   ]
  },
  {
   "cell_type": "markdown",
   "metadata": {},
   "source": [
    "### Utils"
   ]
  },
  {
   "cell_type": "code",
   "execution_count": 4,
   "metadata": {},
   "outputs": [],
   "source": [
    "def dist(u,v):\n",
    "    return np.linalg.norm(u - v, 2)\n",
    "\n",
    "def add_one_row_and_one_column(matrix):\n",
    "    temp = np.append(matrix, - np.ones((matrix.shape[0], 1)), axis=1)\n",
    "    return np.append(temp, - np.ones((1, matrix.shape[0] + 1)), axis=0)\n",
    "\n",
    "def add_one_row(matrix):\n",
    "    return np.append(matrix, np.zeros((1, matrix.shape[1])), axis=0)\n",
    "\n",
    "def add_one_column(matrix):\n",
    "    return np.append(matrix, np.zeros((matrix.shape[0], 1)), axis=1)"
   ]
  },
  {
   "cell_type": "markdown",
   "metadata": {},
   "source": [
    "# Text Dynamic self-organizing network\n",
    "\n",
    "Before understanding the experience in the article, we have to understand a special type of networks : grow-when-required networks\n",
    "\n",
    "The network we will use here was introduced by [Marsland et al. (2002)](https://seat.massey.ac.nz/personal/s.r.marsland/PUBS/NN02.pdf). It is actually not a classical neural network as we know them (where the output of a layer is the input for the next layer). You could represent it to yourself as a set of \"weights\" and an algorithm for choosing them. The algorithm is as following (take some time to digest it, it might be a bit harsh to understand at first reading):\n",
    "- We begin with a set of 2 \"neurons\", and 0 edges. Each neuron is actually just a vector of weights $w_j$, of the same size as the inputs (here (64,1)).\n",
    "- Given a new training input $x_i$, we consider the 2 closest neurons $w_b$ (best) and $w_s$ (second best) in term of euclidian distance (the neurons minimizing $||x_i - w_j||^2$). We create an edge between these 2 neurons.\n",
    "- We compute the activity of the best neuron: $a = exp(-\\alpha||x_i - w_b||^2)$. The higher the activity, the closer the neuron is to input.\n",
    "- 2 possibilities here. Either the activity of the neuron is too low, and its habituation is too low too (we'll speak later about habituation). Then, we create a new neuron to better represent in the input. In the other case, we consider this neuron to be the best representation of the input, and we train it to be even closer.\n",
    "\n",
    "- IF WE CREATE A NEW NEURON:\n",
    "    - We first remove the link between the 2 best neurons ($w_b$ and $w_s$) if there is any\n",
    "    - We set the weight of the new neuron to be $\\frac{w_b + x_i}{2}$\n",
    "    - We create edges between the new neuron and the 2 best neurons\n",
    "\n",
    "\n",
    "- IF WE DON'T CREATE ANY NEW NEURON:\n",
    "     - We update the weights of the best neuron and its neighboors according to the following equations \n",
    "     \n",
    "     $\\Delta w_b = \\epsilon_b * h_b * (x_i - w_b)$\n",
    "     \n",
    "     $\\Delta w_n = \\epsilon_n * h_n * (x_i - w_n)$\n",
    "\n",
    "    where $\\epsilon_b$ and $\\epsilon_n$ are fixed learning rates for respectively the best neuron and its neighboors, and $h_b$ and $h_n$ are the     habituation values for them.\n",
    "    \n",
    "  - We update the habituation values for the best neuron and its neighboors according ot the following equations\n",
    "    \n",
    "    $\\Delta h_b = \\tau_b * \\kappa * (1 - h_b) - \\tau_b$\n",
    "    \n",
    "    $\\Delta h_n = \\tau_n * \\kappa * (1 - h_n) - \\tau_n$\n",
    "    \n",
    "    where $\\tau_b$, $\\tau_n$ and $\\kappa$ are constant hyperparameters, controling the decreasing behavior of h. Typically, $\\tau_b > \\tau_n$ since the habituation should decrease faster for the best neuron than for its neighboors. \n",
    "    "
   ]
  },
  {
   "cell_type": "markdown",
   "metadata": {},
   "source": [
    "### Text summary of the algorithm\n",
    "\n",
    "The above algorithm can be a bit harsh to understand. Let's try to explain a bit more the process in action.\n",
    "The network begins with a very small size (2 neurons, 0 edges), and grow over time. For each new entry, we first compute the closest neurons. And then, the algorithm must make a choice: \"Is the closest neuron good enough for this entry?\". \n",
    "\n",
    "To answer this question, it uses 2 metrics. The first one is the activation. It simply tells how close to the entry the best neuron is (if a = 1, then $w_b = x_i$, and when $w_b$ is at an infinite distance from $x_i$, a = 0). \n",
    "\n",
    "The second metric is the habituation. This metrics tells how many times the bets neuron was trained. When h is near 1, the neuron is almost new, it wasn't trained a lot. When h is low, the neuron is already old, it was trained a lot of times. This habituation factor is important to give the neuron a chance to get better, before creating a new one. And it also is a warranty than old neurons won't forget what they learned, because theyr learning rate is moduled by their habituation. \n",
    "\n",
    "So to sum up a little bit, if the activation of the best neuron is too low, and habituation is low, then we create a new neuron.\n",
    "Else (either activation is high -> the neuron is good for this entry, or habituation is high -> the neuron is young), we don't create any new neuron. "
   ]
  },
  {
   "cell_type": "markdown",
   "metadata": {},
   "source": [
    "### A last thing : inference\n",
    "\n",
    "So, we know how our network is training, but we still don't know how it is infering ?!?\n",
    "\n",
    "It is actually a simple majority vote for the inference part. At training time, each time a neuron is chosen for an entry, we associate the label of the entry with this neuron. At inference time, we will just chose the best neuron for the input, and output the most represented class for this neuron. \n",
    "\n",
    "Side note: the positive aspect with this method is that we can do it with an not fixed number of classes."
   ]
  },
  {
   "cell_type": "markdown",
   "metadata": {},
   "source": [
    "### Are you still there ?"
   ]
  },
  {
   "cell_type": "code",
   "execution_count": 5,
   "metadata": {},
   "outputs": [
    {
     "name": "stdout",
     "output_type": "stream",
     "text": [
      "I am still there\n"
     ]
    }
   ],
   "source": [
    "print('I am still there')"
   ]
  },
  {
   "cell_type": "markdown",
   "metadata": {},
   "source": [
    "Great, since you are here, let's experiment !"
   ]
  },
  {
   "cell_type": "markdown",
   "metadata": {},
   "source": [
    "# Let's just jump into it\n",
    "\n",
    "So, now that we know the algorithm for dynamic grow-when-required networks, we can get to the point of our article (oof!). The point of the article is to say that it is better to have a little net which will grow, than a big one which is static."
   ]
  },
  {
   "cell_type": "markdown",
   "metadata": {},
   "source": [
    "### Hyperparameters "
   ]
  },
  {
   "cell_type": "code",
   "execution_count": 6,
   "metadata": {},
   "outputs": [],
   "source": [
    "activity_threshold = 0.7  # Adapted for this experiment\n",
    "h_threshold = 0.3  # Adapted for this experiment\n",
    "best_node_learning_rate = 0.5  # Used in the paper\n",
    "neighboors_nodes_learning_rate = 0.005  # Used in the paper\n",
    "h0 = 1  # Used in the paper\n",
    "alpha = 0.67  # Used in the paper\n",
    "tau_best = 0.01  # Adapted for this experiment\n",
    "tau_neighboors = 0.003  # Adapted for this experiment\n",
    "kappa = 1.05  # Used in the paper"
   ]
  },
  {
   "cell_type": "markdown",
   "metadata": {},
   "source": [
    "### The algorithm\n",
    "\n",
    "You'll find behind an implementation of the algorithm described above. Read it if you want, bu it is only the code for what you just read."
   ]
  },
  {
   "cell_type": "code",
   "execution_count": 7,
   "metadata": {},
   "outputs": [],
   "source": [
    "def train_and_infer(X, y, initial_nodes, initial_edges, max_node_counter):\n",
    "    \"\"\"\n",
    "    Train a grow-when-required network on the (X, y) data.\n",
    "    Inference is made simultaneously. It is not unfair since the inference part is made before the training part.\n",
    "    And it allow us to have only a training set (no test set), which is great.\n",
    "    \"\"\"\n",
    "    \n",
    "    # Initialize our network\n",
    "    nodes = initial_nodes\n",
    "    edges = initial_edges\n",
    "    n = len(nodes)\n",
    "    h = [h0 for i in range(n)]\n",
    "    labels_matrix = np.zeros(shape=(n,0))\n",
    "    known_labels = []\n",
    "    predictions = []\n",
    "\n",
    "    for k in range(len(X)):\n",
    "\n",
    "        current_x = X[k]\n",
    "        current_y = y[k]\n",
    "        \n",
    "        # Add the label to list of known labels.\n",
    "        if current_y not in known_labels:\n",
    "            known_labels.append(current_y)\n",
    "            labels_matrix = add_one_column(labels_matrix)    \n",
    "\n",
    "        # 1 - Find best node s and second best node t\n",
    "        best_distance = 64\n",
    "        second_best_distance = 64\n",
    "        best_node_index = -1\n",
    "        second_best_node_index = -1\n",
    "        for index, node in enumerate(nodes):\n",
    "            if dist(current_x, node) < second_best_distance:\n",
    "                if dist(current_x, node) < best_distance:\n",
    "                    second_best_node_index = best_node_index\n",
    "                    best_node_index = index\n",
    "                    second_best_distance = best_distance\n",
    "                    best_distance = dist(current_x, node)\n",
    "                else:\n",
    "                    second_best_node_index = index\n",
    "                    second_best_distance = dist(current_x, node)\n",
    "\n",
    "        # Bonus prediction step - make a prediction before training phase\n",
    "        pred = known_labels[np.argmax(labels_matrix[best_node_index,:])]\n",
    "        predictions.append(pred)\n",
    "\n",
    "        # 2 - Add an edge between s and t\n",
    "        edges[best_node_index, second_best_node_index] = 1\n",
    "        edges[second_best_node_index, best_node_index] = 1\n",
    "\n",
    "        # 3 - Compute activity of the best matching unit\n",
    "        activity = np.exp(- alpha * dist(current_x, nodes[best_node_index]))\n",
    "\n",
    "        # 4 - If activity too low, firing counter too low, and len(nodes) < max_node_counter, add a new node\n",
    "        if activity < activity_threshold and h[best_node_index] < h_threshold and len(nodes) < max_node_counter:\n",
    "            node = (current_x + nodes[best_node_index]) / 2\n",
    "            nodes.append(node)\n",
    "            edges = add_one_row_and_one_column(edges)\n",
    "            labels_matrix = add_one_row(labels_matrix)\n",
    "            labels_matrix[len(nodes) - 1, known_labels.index(current_y)] += 1\n",
    "            h.append(h0)\n",
    "\n",
    "            # add edges between new node and 2 best nodes. Rem¶ove edge between 2 best nodes\n",
    "            new_node_index = len(nodes) - 1\n",
    "            edges[new_node_index, best_node_index] = 1\n",
    "            edges[best_node_index, new_node_index] = 1\n",
    "            edges[new_node_index, second_best_node_index] = 1\n",
    "            edges[second_best_node_index, new_node_index] = 1\n",
    "            edges[best_node_index, second_best_node_index] = 0\n",
    "            edges[second_best_node_index, best_node_index] = 0\n",
    "\n",
    "        # Else, take the best node activation as output\n",
    "        else:\n",
    "            labels_matrix[best_node_index, known_labels.index(current_y)] += 1\n",
    "\n",
    "            # 5 - update the weight of the best node, and his neighboors\n",
    "            nodes[best_node_index] += best_node_learning_rate * h[best_node_index] * (current_x - nodes[best_node_index])\n",
    "            for i in range(len(nodes)):\n",
    "                if edges[i, best_node_index] != 0:\n",
    "                    nodes[i] += neighboors_nodes_learning_rate * h[i] * (current_x - nodes[i])\n",
    "\n",
    "            # 6 - Update h, the habituation, for the best node and his neighboors\n",
    "            h[best_node_index] += tau_best * kappa * (1 - h[best_node_index]) - tau_best\n",
    "            for i in range(len(nodes)):\n",
    "                if edges[i, best_node_index] != 0:\n",
    "                    h[i] += tau_neighboors * kappa * (1 - h[i]) - tau_neighboors\n",
    "        #print(h[best_node_index])\n",
    "    \n",
    "    return predictions, len(nodes)"
   ]
  },
  {
   "cell_type": "markdown",
   "metadata": {},
   "source": [
    "## Experiment: accuracy challenge for 1 to 10 classes\n",
    "\n",
    "In the experiment, we will compare the performance of a static network (with a fixed number of nodes) and a dynamic one (with increasing number of nodes)."
   ]
  },
  {
   "cell_type": "code",
   "execution_count": 9,
   "metadata": {},
   "outputs": [],
   "source": [
    "max_nodes_number = 200"
   ]
  },
  {
   "cell_type": "code",
   "execution_count": 12,
   "metadata": {},
   "outputs": [
    {
     "name": "stdout",
     "output_type": "stream",
     "text": [
      "iteration 1 / 10\n",
      "iteration 2 / 10\n",
      "iteration 3 / 10\n",
      "iteration 4 / 10\n",
      "iteration 5 / 10\n",
      "iteration 6 / 10\n",
      "iteration 7 / 10\n",
      "iteration 8 / 10\n",
      "iteration 9 / 10\n",
      "iteration 10 / 10\n"
     ]
    }
   ],
   "source": [
    "static_accuracies = []\n",
    "dynamic_accuracies = []\n",
    "static_node_counter = []\n",
    "dynamic_node_counter = []\n",
    "static_accuracies_var = []\n",
    "dynamic_accuracies_var = []\n",
    "static_node_counter_var = []\n",
    "dynamic_node_counter_var = []\n",
    "\n",
    "for k in range(1,11):\n",
    "    print(f\"iteration {k} / 10\")\n",
    "    cur_static_accuracy = []\n",
    "    cur_static_node_counter = []\n",
    "    cur_dynamic_accuracy = []\n",
    "    cur_dynamic_node_counter = []\n",
    "    for _ in range(10):  # Repetition of the experiment to get more precise results\n",
    "        classes = np.random.choice([i for i in range(10)], k, replace=False)\n",
    "        to_take = [True if yi in classes else False for yi in y]\n",
    "        cur_X = X[to_take]\n",
    "        cur_y = y[to_take]\n",
    "        \n",
    "        # static net\n",
    "        nodes = [np.random.rand(64) for i in range(max_nodes_number)]\n",
    "        edges =  np.zeros((max_nodes_number,max_nodes_number))\n",
    "        preds, node_count = train_and_infer(cur_X, cur_y, nodes, edges, max_nodes_number)\n",
    "        accuracy = accuracy_score(cur_y, preds)\n",
    "        cur_static_accuracy.append(accuracy)\n",
    "        cur_static_node_counter.append(node_count)\n",
    "        \n",
    "        # dynamic net\n",
    "        nodes = [np.random.rand(64) for i in range(2)]\n",
    "        edges =  np.zeros((2,2))\n",
    "        preds, node_count = train_and_infer(cur_X, cur_y, nodes, edges, max_nodes_number)\n",
    "        accuracy = accuracy_score(cur_y, preds)\n",
    "        cur_dynamic_accuracy.append(accuracy)\n",
    "        cur_dynamic_node_counter.append(node_count)\n",
    "    \n",
    "    static_accuracies.append(np.mean(cur_static_accuracy))\n",
    "    dynamic_accuracies.append(np.mean(cur_dynamic_accuracy))\n",
    "    static_node_counter.append(np.mean(cur_static_node_counter))\n",
    "    dynamic_node_counter.append(np.mean(cur_dynamic_node_counter))\n",
    "    static_accuracies_var.append(np.var(cur_static_accuracy))\n",
    "    dynamic_accuracies_var.append(np.var(cur_dynamic_accuracy))\n",
    "    static_node_counter_var.append(np.var(cur_static_node_counter))\n",
    "    dynamic_node_counter_var.append(np.var(cur_dynamic_node_counter))"
   ]
  },
  {
   "cell_type": "code",
   "execution_count": 25,
   "metadata": {},
   "outputs": [
    {
     "data": {
      "image/png": "[encoded data removed]",
      "text/plain": [
       "<Figure size 1080x504 with 2 Axes>"
      ]
     },
     "metadata": {
      "needs_background": "light"
     },
     "output_type": "display_data"
    }
   ],
   "source": [
    "fig, ax = plt.subplots(1, 2, figsize=(15,7))\n",
    "\n",
    "ax[0].plot(np.arange(1, 11), static_node_counter, \"b-\", label=\"static network\")\n",
    "ax[0].plot(np.arange(1, 11), np.array(static_node_counter) + np.array(static_node_counter_var), \"b--\")\n",
    "ax[0].plot(np.arange(1, 11), np.array(static_node_counter) - np.array(static_node_counter_var), \"b--\")\n",
    "\n",
    "ax[0].plot(np.arange(1, 11), dynamic_node_counter, \"r-\", label=\"dynamic network\")\n",
    "ax[0].plot(np.arange(1, 11), np.array(dynamic_node_counter) + np.array(dynamic_node_counter_var), \"r--\")\n",
    "ax[0].plot(np.arange(1, 11), np.array(dynamic_node_counter) - np.array(dynamic_node_counter_var), \"r--\")\n",
    "\n",
    "ax[0].set_xlabel('Number of classes')\n",
    "ax[0].set_ylabel('Number of neurons')\n",
    "\n",
    "ax[0].legend()\n",
    "\n",
    "ax[1].plot(np.arange(1, 11), static_accuracies, \"b-\", label=\"static network\")\n",
    "ax[1].plot(np.arange(1, 11), np.array(static_accuracies) + np.array(static_accuracies_var), \"b--\")\n",
    "ax[1].plot(np.arange(1, 11), np.array(static_accuracies) - np.array(static_accuracies_var), \"b--\")\n",
    "\n",
    "ax[1].plot(np.arange(1, 11), dynamic_accuracies, \"r-\", label=\"dynamic network\")\n",
    "ax[1].plot(np.arange(1, 11), np.array(dynamic_accuracies) + np.array(dynamic_accuracies_var), \"r--\")\n",
    "ax[1].plot(np.arange(1, 11), np.array(dynamic_accuracies) - np.array(dynamic_accuracies_var), \"r--\")\n",
    "\n",
    "ax[1].set_xlabel('Number of classes')\n",
    "ax[1].set_ylabel('Accuracy')\n",
    "\n",
    "ax[1].legend()\n",
    "\n",
    "plt.show()"
   ]
  },
  {
   "cell_type": "markdown",
   "metadata": {},
   "source": [
    "When there are only a few classes, the static model can handle the fight, but when the number of classes becomes too big, the accuracy gap become huge between the static network and the dynamic one. Even when the number of neurons remains lower for the dynamic network.\n",
    "\n",
    "This proves the point of the article: networks which grow during training phase avoid the problem of catastrophic forgetting"
   ]
  },
  {
   "cell_type": "markdown",
   "metadata": {},
   "source": [
    "## Conclusion\n",
    "\n",
    "So this article showed us that it is possible to overcome the problem of catastophic forgetting (even when the memory is bounded, here by the number of available neurons), by using a neural net that grows when required. But they didn't investigate the problem of \"dead\" neurons and edges (i.e. neurons and edges that are not used anymore, and that should be removed). This should be done to understand how we can allow the algorithm to forget things on an uncatastrophic way."
   ]
  }
 ],
 "metadata": {
  "kernelspec": {
   "display_name": "ml",
   "language": "python",
   "name": "ml"
  },
  "language_info": {
   "codemirror_mode": {
    "name": "ipython",
    "version": 3
   },
   "file_extension": ".py",
   "mimetype": "text/x-python",
   "name": "python",
   "nbconvert_exporter": "python",
   "pygments_lexer": "ipython3",
   "version": "3.8.5"
  }
 },
 "nbformat": 4,
 "nbformat_minor": 4
}
