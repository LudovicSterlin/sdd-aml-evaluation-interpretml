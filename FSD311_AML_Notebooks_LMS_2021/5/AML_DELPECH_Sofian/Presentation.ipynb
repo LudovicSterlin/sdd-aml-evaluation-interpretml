{
 "cells": [
  {
   "cell_type": "markdown",
   "metadata": {},
   "source": [
    "<div style=\"font-size:22pt; line-height:25pt; font-weight:bold; text-align:center;\" >Classification naïve bayésienne pour des données à multi-labels</div>"
   ]
  },
  {
   "cell_type": "markdown",
   "metadata": {},
   "source": [
    "Dans ce notebook, nous nous intéresserons au problème de classification d'un jeu de données possédant plusieurs labels. La méthode présentée ici est tirée de l'article \"Naive Bayes Classification for Subset Selection\" co-écrit par Luca MOSSINA et Emmanuel RACHELSON.\n",
    "    \n",
    "Lien de l'article : https://arxiv.org/abs/1707.06142\n",
    "\n",
    "Les librairies suivantes sont nécessaires au bon déroulement du notebook. Elles ont normalement toutes été déjà utilisées et ne devraient pas nécessiter d'installation particulière."
   ]
  },
  {
   "cell_type": "code",
   "execution_count": 348,
   "metadata": {},
   "outputs": [],
   "source": [
    "from sys import path\n",
    "\n",
    "import numpy as np\n",
    "\n",
    "%matplotlib inline\n",
    "import matplotlib.pyplot as plt\n",
    "\n",
    "from scipy.stats import norm\n",
    "\n",
    "from sklearn import datasets\n",
    "from sklearn.utils import shuffle"
   ]
  },
  {
   "cell_type": "markdown",
   "metadata": {},
   "source": [
    "# 1. <a id=\"sec1\"></a>Présentation du problème"
   ]
  },
  {
   "cell_type": "markdown",
   "metadata": {},
   "source": [
    "Prenons un exemple simple afin d'illustrer dans quel cas nous pouvons avoir à faire à ce type de problème de classification à multi-labels. \n",
    "\n",
    "Imaginons que nous souhaitions mettre en relation les préférences culinaires des invités pour un repas avec notre liste de course afin de réaliser un gateau. L'ensemble des éléments achetables représentent les différents labels qui prennent la valeur 1 si il faut les acheter et 0 sinon. C'est un problème de classification à multi-labels. On notera $L$ l'ensemble des labels.\n",
    "\n",
    "Un des aspects clés à visualiser ici est que  la valeur d'un label peut être conditionnellement dépendante de la valeur des autres. En effet dans l'exemple, il est préférable que la liste de course permette de réaliser un seul gateau plutôt que de contenir un mélange de deux recettes. Il faudra prendre cela en compte lors de l'évaluation des méthodes prochainement décrites."
   ]
  },
  {
   "cell_type": "markdown",
   "metadata": {},
   "source": [
    "<div class=\"alert alert-success\">\n",
    "    \n",
    "**Différence avec la classification multi-classe**.<br>\n",
    "La classification multi-classe ne concerne les cas où il n'y a qu'un seul label, ($L$ contient donc un seul élément) et où ce label peut prendre plus de deux valeurs.\n",
    "</div>"
   ]
  },
  {
   "cell_type": "markdown",
   "metadata": {},
   "source": [
    "Ainsi le sujet se détache du cas canonique, ce dernier ayant pour but de calculer un classifieur $f$  qui à chaque vecteur d'observation $x$ associe la classe $c\\in C$ la plus probable. On a alors : $f : X \\to C$ comme dans la figure ci-dessous."
   ]
  },
  {
   "cell_type": "markdown",
   "metadata": {},
   "source": [
    "<img src='img/fig1.png'>"
   ]
  },
  {
   "cell_type": "markdown",
   "metadata": {},
   "source": [
    "Cependant, un problème de classification multi-labels peut être vu comme un problème de classification multi-classe. Notons $L$ l'ensemble des  labels où chacun de ses éléments peut prendre la valeur $0$ ou $1$. Cette fois-ci nous considérons que $C=P(L)$ avec $P(L)$ l'ensemble des parties de $L$, $f$ s'écrit alors $f : X \\to C=P(L)$. "
   ]
  },
  {
   "cell_type": "markdown",
   "metadata": {},
   "source": [
    "<img src='img/fig3.png'>"
   ]
  },
  {
   "cell_type": "markdown",
   "metadata": {},
   "source": [
    "<img src='img/fig2.png'>"
   ]
  },
  {
   "cell_type": "markdown",
   "metadata": {},
   "source": [
    "Ce problème pourrait être résolu avec des méthodes de classification classiques comme la classification naïve bayésienne. Cependant, la taille de l'ensemble $P(L)$ augmente exponentiellement avec le nombre de labels. On a $|C| = 2^{|L|}$. Cette méthode ne peut donc pas être utilisable à partir d'un certain nombre de labels du fait de la complexité spatiale trop importante.\n",
    "\n",
    "Afin de passer outre cette limitation, la méthode présentée dans ce notebook suivra l'architecture suivante :\n",
    "\n",
    "+ pour une observation $x$ donnée, on détermine la taille $m$ du sous-ensemble des labels\n",
    "+ on détermine le premier label non-nul sachant $x$ et $m$\n",
    "+ on détermine un à un les labels non-nuls en prenant en compte $x$, $m$ et les labels précedemment trouvés \n",
    "\n",
    "La prise en compte des derniers labels trouvés à chaque nouvelle itération offre la possibilité de gérer la dépendance conditionnelle  que nous avons abordée plus haut qui peut exister entre les labels.\n",
    "\n",
    "Afin de réaliser cette algorithme, une **cascade de classifieur** (où le classifieur $k$ prédit le $k$-ème élément) est utilisée. On supposera que chacun de ces classifieurs sera un **classifeur naïf bayésien**.\n",
    "\n",
    "Nous verrons que cette approche conduit à une diminution remarquable de la complexité (en temps et en espace) de la classification multi-labels. "
   ]
  },
  {
   "cell_type": "markdown",
   "metadata": {},
   "source": [
    "# 2. <a id=\"sec2\"></a>Rappel sur la classification naïve bayésienne"
   ]
  },
  {
   "cell_type": "markdown",
   "metadata": {},
   "source": [
    "Dans cette partie, nous nous replaçons dans le cas canonique. On considère un vecteur d'observation $x = (x_1, ...,x_n)$ appartenant à $\\mathbb{R}^{n}$ et on cherche à estimer la loi de probabilité $\\mathbb{P}(C|X)$. On s'intéresse donc au terme suivant :\n",
    "$$\\mathbb{P}(C=c|X=x)$$\n",
    "\n",
    "Le classifieur $f$ retourne la classe $c$ qui maximise le terme précédent :\n",
    "$$f = \\arg\\max_{c} \\mathbb{P}(C=c|X=x)$$\n",
    "D'après le théorème de Bayes, on obtient :\n",
    "$$\\mathbb{P}(C=c|X=x) =\\frac{\\mathbb{P}(X=x|C=c)\\cdot\\mathbb{P}(C=c)}{\\mathbb{P}(X=x)}$$\n",
    "\n",
    "L'**hypothèse naïve bayésienne** consiste à considérer que $X_1,..., X_n$ sont indépendantes. On a alors :\n",
    "\\begin{align*}\n",
    "\\arg\\max_{c} \\mathbb{P}(C=c|X=x) & = \\arg\\max_{c} \\frac{\\prod\\limits_{i=1}^n \\mathbb{P}(X_i=x_i|C=c) \\mathbb{P}(C=c)}{\\mathbb{P}(X=x)}\\\\\n",
    "& = \\arg\\max_{c} \\prod\\limits_{i=1}^n \\mathbb{P}(X_i=x_i|C=c) \\mathbb{P}(C=c)\\\\\n",
    "\\end{align*}\n",
    "\n",
    "L'hypothèse courante est ensuite de considérer que les lois $(X_i|C)$ suivent une loi gaussienne. On peut alors estimer les paramètres de ces lois à l'aide du jeu de données initiale et réaliser la classification."
   ]
  },
  {
   "cell_type": "markdown",
   "metadata": {},
   "source": [
    "Pour exemple, le jeu de donnée vu en cours est utilisé. Les données correspondent à trois données corporelles (taille, poids et taille de pieds), le label correspond au sexe de la personne (1 si c'est un homme, 0 si c'est une femme)."
   ]
  },
  {
   "cell_type": "code",
   "execution_count": 2,
   "metadata": {},
   "outputs": [
    {
     "data": {
      "text/plain": [
       "array([[ 0.  ,  1.82, 82.  , 30.  ],\n",
       "       [ 0.  ,  1.8 , 86.  , 28.  ],\n",
       "       [ 0.  ,  1.7 , 77.  , 30.  ],\n",
       "       [ 0.  ,  1.8 , 75.  , 25.  ],\n",
       "       [ 1.  ,  1.52, 45.  , 15.  ],\n",
       "       [ 1.  ,  1.65, 68.  , 20.  ],\n",
       "       [ 1.  ,  1.68, 59.  , 18.  ],\n",
       "       [ 1.  ,  1.75, 68.  , 23.  ],\n",
       "       [ 1.  ,  1.58, 49.  , 19.  ]])"
      ]
     },
     "execution_count": 2,
     "metadata": {},
     "output_type": "execute_result"
    }
   ],
   "source": [
    "data = np.loadtxt(\"sex_classif.csv\")\n",
    "data"
   ]
  },
  {
   "cell_type": "code",
   "execution_count": 8,
   "metadata": {},
   "outputs": [
    {
     "name": "stdout",
     "output_type": "stream",
     "text": [
      "score male    : 6.981284895980458e-10\n",
      "score female  : 0.0012161942837264688\n",
      "proba male    : 5.740267802562792e-07\n",
      "proba female  : 0.9999994259732197\n"
     ]
    }
   ],
   "source": [
    "# Estimation des paramètres des lois gaussiennes pour les hommes\n",
    "dataM = data[data[:,0]==0]\n",
    "mu_HS0 = np.mean(dataM[:,1])\n",
    "std_HS0 = np.std(dataM[:,1])\n",
    "mu_WS0 = np.mean(dataM[:,2])\n",
    "std_WS0 = np.std(dataM[:,2])\n",
    "mu_FS0 = np.mean(dataM[:,3])\n",
    "std_FS0 = np.std(dataM[:,3])\n",
    "pS0 = dataM.shape[0]/data.shape[0]\n",
    "\n",
    "# Estimation des paramètres des lois gaussiennes pour les femmes\n",
    "dataF = data[data[:,0]==1]\n",
    "mu_HS1 = np.mean(dataF[:,1])\n",
    "std_HS1 = np.std(dataF[:,1])\n",
    "mu_WS1 = np.mean(dataF[:,2])\n",
    "std_WS1 = np.std(dataF[:,2])\n",
    "mu_FS1 = np.mean(dataF[:,3])\n",
    "std_FS1 = np.std(dataF[:,3])\n",
    "pS1 = dataF.shape[0]/data.shape[0]\n",
    "\n",
    "# classification pour le vexteur x (taille=1.81,poids=59,taille de pieds=21) \n",
    "H=1.81\n",
    "W=59\n",
    "F=21\n",
    "\n",
    "score_M = pS0 * norm.pdf(H,mu_HS0,std_HS0) * norm.pdf(W,mu_WS0,std_WS0) * norm.pdf(F,mu_FS0,std_FS0)\n",
    "score_F = pS1 * norm.pdf(H,mu_HS1,std_HS1) * norm.pdf(W,mu_WS1,std_WS1) * norm.pdf(F,mu_FS1,std_FS1)\n",
    "print(\"score male    :\", score_M)\n",
    "print(\"score female  :\", score_F)\n",
    "print(\"proba male    :\", score_M/(score_M+score_F))\n",
    "print(\"proba female  :\", score_F/(score_M+score_F))"
   ]
  },
  {
   "cell_type": "markdown",
   "metadata": {},
   "source": [
    "**Complexité spatiale** :\n",
    "Afin de comprendre pourquoi il ne serait pas raisonnable de réaliser une classification multi-labels en utilisant une classification naïve bayésienne, il faut encore regarder du côté de la complexité spatiale. \n",
    "\n",
    "Dans le cas canonique avec l'hypothèse de loi gaussienne, la classification consiste à estimer et stocker $|C| - 1$ valeurs pour décrire $\\mathbb{P}(C)$ (dans l'exemple $|C| = 2$) et $2n|C|$ valeurs pour estimer tous les $\\mathbb{P}(X_i|C)$ (le facteur $2$ correspond aux paramètres nécessaires -moyenne et variance- pour décrire une loi gaussienne).\n",
    "\n",
    "Revenons dans le cas multi-labels, nous avons vu que ce genre de problème est assimilable à un problème multi-classe et que dans ce cas $|C|=2^{|L|}$. L'espace nécessaire pour réaliser une classification naïve serait en $O(2n2^{|L|})$. Par exemple, pour un jeu de données avec 10 paramètres $X_i$ suivant une loi gaussienne et 100 labels, la complexité spatiale serait de l'ordre de $10^{31}$. "
   ]
  },
  {
   "cell_type": "markdown",
   "metadata": {},
   "source": [
    "# 3. <a id=\"sec3\"></a>Classification multi-labels "
   ]
  },
  {
   "cell_type": "markdown",
   "metadata": {},
   "source": [
    "Dans cette partie, nous allons voir différentes méthodes d'approche du problème de classification multi-labels avant de se concentrer sur la méthode présentée dans l'article : l'algorithme NaiBX (Naive Bayes Classification for Subset Selection) qui utilise une cascade de classifieurs. \n",
    "\n",
    "Leur point commun est l'utilisation d'un **méta-classifieur** qui à chaque étape d'incrémentation définit un classifieur qui aura pour objectif de déterminer le prochain label qui sera non-nul. Le classifieur retourne le même type vecteur que le classifieur qui assimilait la classification multi-labels  à une classification multi-classes : la liste des labels non nuls."
   ]
  },
  {
   "cell_type": "markdown",
   "metadata": {},
   "source": [
    "## 3.1 <a id=\"sec3.1\"></a>Chaine de classifieurs"
   ]
  },
  {
   "cell_type": "markdown",
   "metadata": {},
   "source": [
    "L'algorithme commence d'abord par prédire si le label $l_1$ est inclus dans le vecteur de sortie en prenant en compte le jeu de donnée $X$ initiale. Il fait de même pour $l_2$ en prenant en compte cette fois $X$ et le fait que $l_1$ appartienne ou pas au vecteur de sortie. On note $Y_i$ appartenant à {$0,1$} la variable décrivant si le label $l_i$ est dans le vecteur de sortie et $h_i$ le classifieur à $i$-ème itération.\n",
    "\n",
    "Nous avons donc à l'étape $i$ : \n",
    "$$Y_i = h_i(X|Y_{i-1},..., Y_1)$$\n",
    "\n",
    "Sans entrer dans les détails de comment sont calculés les $Y_i$, une première limite de cette méthode provient de l'influence importance donnée à l'ordre des labels sur lesquels opèrent les classifieurs successifs. Réaliser un ECC (Ensemble of Classifier Chains) peut permettre de contourner ce problème. Il s'agit de réaliser $k$ différents méta-classifieurs sur des permutations aléatoires des labels. Par exemple, on pourrait avoir $h^{1}(Y_1, Y_2, Y_3)$, $h^{2}(Y_2, Y_1, Y_3)$, $h^{3}(Y_1, Y_3, Y_2)$..."
   ]
  },
  {
   "cell_type": "markdown",
   "metadata": {},
   "source": [
    "## 3.2 <a id=\"sec3.2\"></a>Cascade de classifieurs"
   ]
  },
  {
   "cell_type": "markdown",
   "metadata": {},
   "source": [
    "Une autre approche pourrait consister à commencer par déterminer la taille du sous-ensemble de labels à sélectionner, choir un label dans $L$, en sélectionner un deuxième en prenant en celui précedemment sélectionné et continuer ainsi jusqu'à obtenir le bon nombre de labels.\n",
    "\n",
    "Cette approche se distingue de la chaine des classifieurs par le fait que les labels ne sont pas sélectionnés de manière incrémentale en les regardant les uns après les autres. Cette architecture ne repose donc pas sur un ordre pré-établi parmi les labels.\n",
    "\n",
    "On note $Y$ la variable aléatoire qui retourne le vecteur qui devrait être associé à l'observation $x$, $\\overline{y}$ (avec $\\overline{y}= (y_1, ..., y_k)$ ) sont les observations de $Y$. On rappelle que le classifieur $s$ peut s'écrire :\n",
    "$$ s(x) = \\arg\\max_{\\overline{y} \\in P(L)}\\mathbb{P}(Y=\\overline{y}|X=x)$$"
   ]
  },
  {
   "cell_type": "markdown",
   "metadata": {},
   "source": [
    "Nous allons réaliser un travail préliminaire afin de réécrire la probabilité décrite dans la formule précédente. On note $M$ la variable aléatoire décrivant la taille de Y, soit le nombre de labels non-nuls. Nous avons donc équivalence entre les ensembles suivants :\n",
    "+ \" $\\overline{y}\\subset Y, M=k$\" \n",
    "+ \"$y_1\\in Y, ..., y_k\\in Y, M = k$\" \n",
    "+ \"$\\overline{y}=Y$\"\n",
    "\n",
    "Nous avons donc : \n",
    "$$\\mathbb{P}(Y=\\overline{y}|X=x)= \\mathbb{P}(M=m|X=x)\\mathbb{P}(\\overline{y}\\in{Y}|X=x, M=m)$$\n"
   ]
  },
  {
   "cell_type": "markdown",
   "metadata": {},
   "source": [
    "Par la suite nous introduisons la notation suivante :"
   ]
  },
  {
   "cell_type": "markdown",
   "metadata": {},
   "source": [
    "<img src='img/fig4.png'>"
   ]
  },
  {
   "cell_type": "markdown",
   "metadata": {},
   "source": [
    "On obtient alors en appliquant la formule des probabilités composées :"
   ]
  },
  {
   "cell_type": "markdown",
   "metadata": {},
   "source": [
    "<img src='img/fig5.png'>"
   ]
  },
  {
   "cell_type": "markdown",
   "metadata": {},
   "source": [
    "La fomule précédente est celle que va optimiser le classifieur $s$. Comme on le voit dans l'expression suivante, on peut séparer le problème en plusieurs étapes de classification imbriqué les uns dans les autres. Le premier cherche d'abord à déterminer la taille $M$ du vecteur de sortie(= le nombre de labels non nuls) puis détermine à chaque étape un nouveau label qui sera sélectionné jusqu'à en avoir choisi $m$ différents. Il y a donc $m+1$ classifieurs prenant en compte le résultat des précédents pour réaliser sa tâche. Cette architecture correspond à **une cascade de classifieurs**."
   ]
  },
  {
   "cell_type": "markdown",
   "metadata": {},
   "source": [
    "<img src='img/fig6.png'>"
   ]
  },
  {
   "cell_type": "markdown",
   "metadata": {},
   "source": [
    "Jusqu'ici, nous n'avons pas spécifié quel type de classifieurs est utilisé à chaque étape. N'importe quel classifieur pourrait faire l'affaire en théorie, cependant on risque de se retrouver une nouvelle fois bloqué par la complexité spatiale. En effet, la recherche opérée par les derniers classifieurs peut se révéler trop complexe et couteuse en temps de calcul."
   ]
  },
  {
   "cell_type": "markdown",
   "metadata": {},
   "source": [
    "## 3.3 <a id=\"sec3.2\"></a>Cascade de classifieurs naïfs bayésiens "
   ]
  },
  {
   "cell_type": "markdown",
   "metadata": {},
   "source": [
    "Nous allons désormais sélectionner comme classifieur de base des classifieurs naïfs bayésiens . Ce choix va conduire a une réduction significative de la complexité de l'algorithme globale. \n",
    "\n",
    "Considérons le k-ème classifieur de la cascade, avec les hypothèses bayésiennes il se décompose comme suit :\n"
   ]
  },
  {
   "cell_type": "markdown",
   "metadata": {},
   "source": [
    "<img src='img/fig7.png'>"
   ]
  },
  {
   "cell_type": "markdown",
   "metadata": {},
   "source": [
    "Le classifieur calcule alors chacun des termes du produit précédent. \n",
    "\n",
    "Lorsque l'on prend deux classifieurs différents $f_k$ et $f_{k'}$, on s'aperçoit qu'il cherche à approximer les mêmes probabilités génériques : $\\mathbb{P}(y\\in Y)$, $\\mathbb{P}(M|Y)$ et $\\mathbb{P}(X_i|Y)$. Cette propriété simplifie grandement la quantité d'informations à compiler à chaque itération et permet donc d'appliquer cette méthode sur des cas concrets."
   ]
  },
  {
   "cell_type": "markdown",
   "metadata": {},
   "source": [
    "# 4. <a id=\"sec3\"></a>Algorithme NaiBX"
   ]
  },
  {
   "cell_type": "markdown",
   "metadata": {},
   "source": [
    "Les sections précédentes nous ont donc permis de clarifier trois concepts :\n",
    "\n",
    "+ La décomposition d'un problème de classification multi-labels en une suite de problèmes de classification à un seul label, cette architecture se nomme une **cascade** et permet de prendre en compte la **relation de dépendance** entre les labels.\n",
    "+ Il reste malgré tout compliquer d'appliquer cette méthode dans des cas avec de nombreux labels du fait de la complexité des calculs que doivent réaliser les derniers classifieurs de la cascade\n",
    "+ L'utilisation de classifieurs naïfs bayésiens permet de contourner ce problème en limitant les informations à compiler à chaque fois."
   ]
  },
  {
   "cell_type": "markdown",
   "metadata": {},
   "source": [
    "Dans cette partie, nous allons coder l'algorithme NaiBX à partir d'un cas simple avec un jeu de donnée à 2 paramètres et 2 labels afin d'illustrer son fonctionnement. "
   ]
  },
  {
   "cell_type": "markdown",
   "metadata": {},
   "source": [
    "L'architecture de l'algorithme ainsi que les variables nécessaires à son écriture sont décrites dans les figures suivantes. Dans un premier, nous générerons un jeu de donnée sur lequel on utilisera l'algorithme. Nous écrirons ensuite les fonctions qui permettront de calculer les paramètres ci-dessous. Enfin, nous écrirons la fonction **predict** qui prend en entrée un vexteur $x_{new}$ qui associera les labels correspondant."
   ]
  },
  {
   "cell_type": "markdown",
   "metadata": {},
   "source": [
    "<img src='img/fig8.png'>"
   ]
  },
  {
   "cell_type": "markdown",
   "metadata": {},
   "source": [
    "La fonction **predict_y** calcule d'abord le nombre $m$ de labels non-nuls grâce à la fonction **predict_m**. Dans un second, elle estime les éléments du vecteur de sortie à travers la cascade de classifieur. A chaque nouvelle itération, elle fait appel à la fonction **predict_yk** qui prend en entrée $x_{new}$ et les labels déjà calculés."
   ]
  },
  {
   "cell_type": "markdown",
   "metadata": {},
   "source": [
    "<img src='img/fig9.png'>"
   ]
  },
  {
   "cell_type": "markdown",
   "metadata": {},
   "source": [
    "<img src='img/fig10.png'>"
   ]
  },
  {
   "cell_type": "markdown",
   "metadata": {},
   "source": [
    "On commence par générer le jeu de donnée. On considère un jeu de donnée à 200 observations de 2 paramètres auxquelles sont associés deux labels $0$ et $1$. "
   ]
  },
  {
   "cell_type": "code",
   "execution_count": 320,
   "metadata": {},
   "outputs": [
    {
     "name": "stdout",
     "output_type": "stream",
     "text": [
      "[[ 0.          1.         10.15605056  8.19256906]\n",
      " [ 0.          1.         10.85759364 11.25795186]\n",
      " [ 1.          0.          8.66277658  5.05635024]\n",
      " [ 1.          1.         10.74438814  4.80415207]\n",
      " [ 0.          1.         10.98047311 10.32151765]\n",
      " [ 0.          1.         10.55736315 11.86632717]\n",
      " [ 1.          1.         10.12317111  4.66640976]\n",
      " [ 0.          0.          8.73366433 12.43152301]\n",
      " [ 1.          1.         10.36943206  4.93425269]\n",
      " [ 1.          0.          8.75666221  4.8432248 ]]\n"
     ]
    }
   ],
   "source": [
    "import math\n",
    "\n",
    "\n",
    "n_samples = 100\n",
    "n_labels = 2\n",
    "labels = [0, 1]\n",
    "n_features = 2\n",
    "\n",
    "X1, y1 = datasets.make_gaussian_quantiles(cov=3.0, n_samples=n_samples, n_features=n_features, n_classes=1)\n",
    "X1[:,0] = 10 + X1[:,0]\n",
    "X1[:,1] = 10. + X1[:,1]\n",
    "\n",
    "X2, y2 = datasets.make_gaussian_quantiles(cov=1.5, n_samples=n_samples, n_features=n_features, n_classes=1)\n",
    "X2[:,0] = 10. + X2[:,0]\n",
    "X2[:,1] = 5. + X2[:,1]/2\n",
    "Xa = np.concatenate((X1, X2))\n",
    "ya = np.concatenate((y1, - y2 + 1))\n",
    "\n",
    "Xa, ya = shuffle(Xa, ya)\n",
    "\n",
    "Xblue = Xa[ya==0]\n",
    "Xred = Xa[ya==1]\n",
    "\n",
    "Xyellow = Xa[np.where(Xa[:,0] > 10)]\n",
    "Xgreen = Xa[np.where(Xa[:,0] <= 10)]\n",
    "\n",
    "\n",
    "datalabel2 = np.zeros((n_samples*2))\n",
    "for i in ((np.where(Xa[:,0] > 10))[0]) :\n",
    "    datalabel2[i] = 1\n",
    "    \n",
    "dataset = np.zeros((2*n_samples, 4))\n",
    "dataset[:, 2:] = Xa\n",
    "dataset[:, 0] = ya\n",
    "dataset[:, 1] = datalabel2\n",
    "\n",
    "\n",
    "print(dataset[:10])"
   ]
  },
  {
   "cell_type": "markdown",
   "metadata": {},
   "source": [
    "Les deux premières du dataset correspondent aux labels et les deux autres aux paramètres."
   ]
  },
  {
   "cell_type": "code",
   "execution_count": 322,
   "metadata": {},
   "outputs": [
    {
     "data": {
      "text/plain": [
       "<matplotlib.legend.Legend at 0x150eceffa30>"
      ]
     },
     "execution_count": 322,
     "metadata": {},
     "output_type": "execute_result"
    },
    {
     "data": {
      "image/png": "[encoded data removed]",
      "text/plain": [
       "<Figure size 480x480 with 1 Axes>"
      ]
     },
     "metadata": {},
     "output_type": "display_data"
    }
   ],
   "source": [
    "#Affichage pour le label 0\n",
    "\n",
    "fig=plt.figure(figsize=(6,6), dpi= 80, facecolor='w', edgecolor='k')\n",
    "plt.scatter(Xblue[:,0],Xblue[:,1],c='b',s=20, alpha=0.5, label='label 0 - classe 0')\n",
    "plt.scatter(Xred[:,0],Xred[:,1],c='r',s=20, alpha = 0.5, label='label 0 - classe 1');\n",
    "plt.title(\"Données selon le label 0\")\n",
    "plt.legend()"
   ]
  },
  {
   "cell_type": "code",
   "execution_count": 323,
   "metadata": {},
   "outputs": [
    {
     "data": {
      "text/plain": [
       "<matplotlib.legend.Legend at 0x150ecf57130>"
      ]
     },
     "execution_count": 323,
     "metadata": {},
     "output_type": "execute_result"
    },
    {
     "data": {
      "image/png": "[encoded data removed]",
      "text/plain": [
       "<Figure size 480x480 with 1 Axes>"
      ]
     },
     "metadata": {},
     "output_type": "display_data"
    }
   ],
   "source": [
    "#Affichage pour le label 1\n",
    "fig=plt.figure(figsize=(6,6), dpi= 80, facecolor='w', edgecolor='k')\n",
    "plt.scatter(Xyellow[:,0],Xyellow[:,1],c='y',s=20, alpha=0.5, label='label 1 - classe 1')#, edgecolors='k')\n",
    "plt.scatter(Xgreen[:,0],Xgreen[:,1],c='g',s=20, alpha = 0.5, label='label 1 - classe 0');\n",
    "plt.title(\"Données selon le label 1\")\n",
    "plt.legend()"
   ]
  },
  {
   "cell_type": "code",
   "execution_count": 334,
   "metadata": {},
   "outputs": [],
   "source": [
    "#calcule le nombre de fois que le label i vaut 1\n",
    "def label_occurency(label) :\n",
    "    return np.where(dataset[:,label]==1)[0].shape[0]\n",
    "\n",
    "#calcule le nombre de fois qu'il y k labels valant 1\n",
    "def m_estimator(k) :\n",
    "    return np.where(dataset[:,0]+dataset[:,1]==k)[0].shape[0]\n",
    "\n",
    "#Calcule la moyenne d'une feature pour les données pour lesquelles le label sélectionné vaut 1\n",
    "def meanPxiY(label, feature) :\n",
    "    data = dataset[dataset[:,label]==1]\n",
    "    return np.mean(data[:, feature+2])\n",
    "\n",
    "#Calcule la variance d'une feature pour les données pour lesquelles le label sélectionné vaut 1\n",
    "def stdPxiY(label, feature) :\n",
    "    data = dataset[dataset[:,label]==1]\n",
    "    return np.std(data[:, feature+2])\n",
    "\n",
    "#Calcule la moyenne d'une feature pour les données pour lesquelles il y a m label(s) valant 1\n",
    "def meanPxiM(m, feature) :\n",
    "    data = dataset[dataset[:,0]+dataset[:,1]==m]\n",
    "    return np.mean(data[:, feature+2])\n",
    "\n",
    "#Calcule la variance d'une feature pour les données pour lesquelles il y a m label(s) valant 1\n",
    "def stdPxiM(m, feature) :\n",
    "    data = dataset[dataset[:,0]+dataset[:,1]==m]\n",
    "    return np.std(data[:, feature+2])\n",
    "\n",
    "#calcule le nombre de fois que le label1 et label2 valent 1 sur une même donnée\n",
    "def label_label_occurency(label1, label2) :\n",
    "    return np.where(dataset[:,label1]+dataset[:,label2]==2)[0].shape[0]\n",
    "\n",
    "#calcule le nombre de fois que le label1 vaut 1 avec m labels valant 1 sur une même donnée\n",
    "def m_label_occurency(label, m) :\n",
    "    return (np.where((dataset[:,0]+dataset[:,1]==m) & (dataset[:,label]==1))[0].shape[0])"
   ]
  },
  {
   "cell_type": "code",
   "execution_count": 339,
   "metadata": {},
   "outputs": [],
   "source": [
    "from scipy.stats import norm\n",
    "\n",
    "#Calcule la taille du vecteur de sortie de la fonction predict\n",
    "#La taille correspond correspond au nombre de labels de classe non-nulle\n",
    "#Prend en entrée la nouvelle observation à classifier\n",
    "def predict_m(x_new) :\n",
    "    \n",
    "    best_score = 0\n",
    "    best_m = 0\n",
    "    \n",
    "    for m in range(3) :\n",
    "        score = m_estimator(m)/(2*n_samples)\n",
    "        for feature in range(n_features) :\n",
    "            d = norm.pdf(x_new[feature],meanPxiM(m, feature), stdPxiM(m,feature))\n",
    "            score *= d\n",
    "        if (score > best_score) :\n",
    "            best_score = score\n",
    "            best_m = m\n",
    "            \n",
    "    return best_m\n",
    "\n",
    "#Calcule le nouveau label considéré à la k-ème itération\n",
    "#Prend en entrée la nouvelle observation à classifier, la taille m du vecteur final et la liste yf des labels déjà sélectionnées \n",
    "def predict_yk(x_new,m, yf) :\n",
    "    \n",
    "    best_score = 0\n",
    "    best_y = 0\n",
    "    remaining_labels = np.delete(labels, yf)\n",
    "    \n",
    "    for y in remaining_labels :\n",
    "        Py = label_occurency(y)/(2*n_samples)\n",
    "        score = Py\n",
    "        for feature in range(n_features) :\n",
    "            d = norm.pdf(x_new[feature],meanPxiY(y, feature), stdPxiY(y,feature))\n",
    "            score *= d\n",
    "            \n",
    "        Pmy = m_label_occurency(y,m)/label_occurency(y)\n",
    "        score *= Pmy\n",
    "        for y_f in yf :\n",
    "            P = label_label_occurency(y, y_f)/label_occurency(y)\n",
    "            score *= P\n",
    "            \n",
    "        if (score > best_score) :\n",
    "            best_score = score\n",
    "            best_y = y\n",
    "            \n",
    "    return best_y\n",
    "        \n",
    "#Retourne le vecteur finale, y correspond aux labels dont la classe vaut 1, ceux qui ne sont pas dedans valent 1\n",
    "#On réalise m itérations afin de calculer les m labels de classe non-nulles\n",
    "def predict(x_new) :\n",
    "    m = predict_m(x_new)\n",
    "    y = []\n",
    "    for k in range (m) :\n",
    "        yk = predict_yk(x_new,m, y)\n",
    "        y.append(yk)\n",
    "    return y"
   ]
  },
  {
   "cell_type": "markdown",
   "metadata": {},
   "source": [
    "Prenons les observations [9,5], [11,4], [10,10], [8,12] et [9,10] qui au vu des graphes devraient couvrir les 4 cas possibles dans cette exemple :\n",
    "\n",
    "+ [9,5] >> label 0 = 1 et label 1 = 0\n",
    "+ [11,4] >> label 0 = 1 et label 1 = 1\n",
    "+ [10,10] >> label 0 = 0 et label 1 = 1\n",
    "+ [8,11] >> label 0 = 0 et label 1 = 0"
   ]
  },
  {
   "cell_type": "code",
   "execution_count": 340,
   "metadata": {},
   "outputs": [
    {
     "data": {
      "text/plain": [
       "[0]"
      ]
     },
     "execution_count": 340,
     "metadata": {},
     "output_type": "execute_result"
    }
   ],
   "source": [
    "predict([9,5])  #OK, on rappelle que le résultat affiché correspond aux labels valant 1"
   ]
  },
  {
   "cell_type": "code",
   "execution_count": 342,
   "metadata": {},
   "outputs": [
    {
     "data": {
      "text/plain": [
       "[1, 0]"
      ]
     },
     "execution_count": 342,
     "metadata": {},
     "output_type": "execute_result"
    }
   ],
   "source": [
    "predict([11,4]) #OK"
   ]
  },
  {
   "cell_type": "code",
   "execution_count": 344,
   "metadata": {},
   "outputs": [
    {
     "data": {
      "text/plain": [
       "[1]"
      ]
     },
     "execution_count": 344,
     "metadata": {},
     "output_type": "execute_result"
    }
   ],
   "source": [
    "predict([10,10]) #OK"
   ]
  },
  {
   "cell_type": "code",
   "execution_count": 346,
   "metadata": {},
   "outputs": [
    {
     "data": {
      "text/plain": [
       "[]"
      ]
     },
     "execution_count": 346,
     "metadata": {},
     "output_type": "execute_result"
    }
   ],
   "source": [
    "predict([8,11])  #OK"
   ]
  },
  {
   "cell_type": "markdown",
   "metadata": {},
   "source": [
    "# 4. <a id=\"sec3\"></a>Conclusion"
   ]
  },
  {
   "cell_type": "markdown",
   "metadata": {},
   "source": [
    "Dans ce notebook, nous avons abordé le problème de la classification pour des données associées à plusieurs labels. Nous avons vu qu'afin de le résoudre, une approche avec l'élaboration d'un méta-classifieur est nécessaire mais que celle-ci ne suffit pas à elle-seule pour résoudre le problème sous-jacent de la complexité spatiale trop importante pour espèrer résoudre des problèmes réelles. C'est pour cela qu'un **méta-classifieur** avec des **classifieurs naïfs bayésiens** comme classifieur de base avec une **architecture en cascade** a été proposé : l'algorithme NaiBX.\n",
    "\n",
    "Une rapide introduction par le biais d'un exemple simple a permis de montrer ses principes de base et son implémentation. Afin d'aller plus loin, nous aurions pu observer son comportement sur un jeu de données plus conséquent avec plus de labels notamment. On aurait pu alors confirmer son effectivité pour la réalisation d'une classification multi-labels."
   ]
  }
 ],
 "metadata": {
  "kernelspec": {
   "display_name": "Python 3",
   "language": "python",
   "name": "python3"
  },
  "language_info": {
   "codemirror_mode": {
    "name": "ipython",
    "version": 3
   },
   "file_extension": ".py",
   "mimetype": "text/x-python",
   "name": "python",
   "nbconvert_exporter": "python",
   "pygments_lexer": "ipython3",
   "version": "3.8.5"
  }
 },
 "nbformat": 4,
 "nbformat_minor": 4
}
